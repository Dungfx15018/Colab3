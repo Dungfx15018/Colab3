{
 "cells": [
  {
   "cell_type": "markdown",
   "metadata": {
    "id": "CC-le5QVgnbb"
   },
   "source": [
    "## Discretisation (Rời rạc hóa)\n",
    "\n",
    "Rời rạc hóa là quá trình biến đổi biến liên tục thành biến rời rạc bằng cách tạo một tập hợp các khoảng liền nhau trải dài phạm vi giá trị của biến. Discretisation còn được gọi là **binning**, trong đó bin là tên thay thế cho interval (khoảng).\n",
    "\n",
    "\n",
    "### Rời rạc hóa giúp xử lý outlier và có thể cải thiện chênh lệch giá trị trong các biến bị lệch\n",
    "\n",
    "Rời rạc hóa giúp xử lý outlier bằng cách đặt các giá trị này vào các khoảng thấp hoặc cao hơn cùng với các giá trị inlier còn lại của phân phối. Do đó, những quan sát ngoại lai này không còn khác biệt so với các giá trị còn lại ở đuôi của phân phối, vì giờ chúng đều ở cùng trong cùng một khoảng/bucket. Ngoài ra, rời rạc hóa giúp trải rộng các giá trị của một biến bị lệch trên một tập hợp các bin có số lượng quan sát bằng nhau bằng cách tạo các bin hoặc khoảng thích hợp.\n",
    "\n",
    "\n",
    "### Các phương pháp Rời rạc hóa\n",
    "\n",
    "Có một số cách biến đổi biến liên tục thành biến rời rạc. Các phương pháp rời rạc hóa được chia thành 2 loại: **có giám sát (supervised) và không có giám sát (unsupervised)**. Các phương pháp không có giám sát không sử dụng bất kỳ thông tin nào ngoài phân phối của biến để tạo các bin liền kề sẽ đặt các giá trị. Các phương pháp có giám sát thường sử dụng thông tin mục tiêu để tạo bin hoặc khoảng.\n",
    "\n",
    "\n",
    "####  Các phương pháp rời rạc hóa không giám sát\n",
    "\n",
    "- Rời rạc hóa sử dụng khoảng cách bằng nhau\n",
    "- Rời rạc hóa sử dụng tần số bằng nhau\n",
    "- Rời rạc hóa sử dụng K-means\n",
    "\n",
    "#### Phương pháp rời rạc hóa có giám sát\n",
    "\n",
    "- Rời rạc hóa sử dụng cây phân loại"
   ]
  },
  {
   "cell_type": "markdown",
   "metadata": {
    "id": "7drav570g-fz"
   },
   "source": [
    "## Equal width discretisation (Rời rạc hóa sử dụng khoảng cách bằng nhau)\n",
    "\n",
    "Rời rạc hóa sử dụng khoảng cách bằng nhau chia phạm vi các giá trị thành N bin có cùng khoảng cách. Khoảng cách (width) được xác định bởi phạm vi giá trị trong biến và số bin mà chúng ta muốn sử dụng để chia biến:\n",
    "\n",
    "width = (max value - min value) / N\n",
    "\n",
    "trong đó N là số bin/khoảng.\n",
    "\n",
    "Ví dụ: nếu các giá trị của biến thay đổi từ 0-100, chúng ta tạo 5 bin như sau: width = (100-0) / 5 = 20. Do đó, các bin là 0-20, 20-40, 40-60, 80 -100. Các bin đầu và cuối (0-20 và 80-100) có thể được mở rộng để chứa outlier (tức là các giá trị dưới 0 hoặc trên 100 cũng sẽ được đặt trong các bin đó).\n",
    "\n",
    "Không có quy tắc chung để xác định N, điều này cần xác định bằng thực nghiệm.\n",
    "\n",
    "## Trong bản mô phỏng này\n",
    "\n",
    "Chúng ta sẽ học cách thực hiện rời rạc hóa sử dụng khoảng cách bằng nhau sử dụng tập dữ liệu Titanic với\n",
    "\n",
    "- pandas và NumPy\n",
    "- Feature-engine\n",
    "- Scikit-learn"
   ]
  },
  {
   "cell_type": "code",
   "execution_count": 1,
   "metadata": {
    "id": "kNrWLhRpgnbe"
   },
   "outputs": [],
   "source": [
    "import pandas as pd\n",
    "import numpy as np\n",
    "\n",
    "import matplotlib.pyplot as plt\n",
    "\n",
    "from sklearn.model_selection import train_test_split\n",
    "\n",
    "from sklearn.preprocessing import KBinsDiscretizer\n",
    "\n",
    "from feature_engine.discretisation import EqualWidthDiscretiser"
   ]
  },
  {
   "cell_type": "code",
   "execution_count": 2,
   "metadata": {
    "id": "mkFsuMspgnbf",
    "outputId": "f1c1ae11-1796-4707-da84-bab92c2ce14a"
   },
   "outputs": [
    {
     "data": {
      "text/html": [
       "<div>\n",
       "<style scoped>\n",
       "    .dataframe tbody tr th:only-of-type {\n",
       "        vertical-align: middle;\n",
       "    }\n",
       "\n",
       "    .dataframe tbody tr th {\n",
       "        vertical-align: top;\n",
       "    }\n",
       "\n",
       "    .dataframe thead th {\n",
       "        text-align: right;\n",
       "    }\n",
       "</style>\n",
       "<table border=\"1\" class=\"dataframe\">\n",
       "  <thead>\n",
       "    <tr style=\"text-align: right;\">\n",
       "      <th></th>\n",
       "      <th>survived</th>\n",
       "      <th>age</th>\n",
       "      <th>fare</th>\n",
       "    </tr>\n",
       "  </thead>\n",
       "  <tbody>\n",
       "    <tr>\n",
       "      <th>0</th>\n",
       "      <td>1</td>\n",
       "      <td>29.0000</td>\n",
       "      <td>211.3375</td>\n",
       "    </tr>\n",
       "    <tr>\n",
       "      <th>1</th>\n",
       "      <td>1</td>\n",
       "      <td>0.9167</td>\n",
       "      <td>151.5500</td>\n",
       "    </tr>\n",
       "    <tr>\n",
       "      <th>2</th>\n",
       "      <td>0</td>\n",
       "      <td>2.0000</td>\n",
       "      <td>151.5500</td>\n",
       "    </tr>\n",
       "    <tr>\n",
       "      <th>3</th>\n",
       "      <td>0</td>\n",
       "      <td>30.0000</td>\n",
       "      <td>151.5500</td>\n",
       "    </tr>\n",
       "    <tr>\n",
       "      <th>4</th>\n",
       "      <td>0</td>\n",
       "      <td>25.0000</td>\n",
       "      <td>151.5500</td>\n",
       "    </tr>\n",
       "  </tbody>\n",
       "</table>\n",
       "</div>"
      ],
      "text/plain": [
       "   survived      age      fare\n",
       "0         1  29.0000  211.3375\n",
       "1         1   0.9167  151.5500\n",
       "2         0   2.0000  151.5500\n",
       "3         0  30.0000  151.5500\n",
       "4         0  25.0000  151.5500"
      ]
     },
     "execution_count": 2,
     "metadata": {},
     "output_type": "execute_result"
    }
   ],
   "source": [
    "# load các biến dạng số của tập dữ liệu Titanic\n",
    "\n",
    "data = pd.read_csv('titanic.csv',\n",
    "                   usecols=['age', 'fare', 'survived'])\n",
    "\n",
    "data.head()"
   ]
  },
  {
   "cell_type": "code",
   "execution_count": 3,
   "metadata": {
    "id": "T5-8izaKgnbh",
    "outputId": "b0dc43e4-4403-4186-dded-ff17efd0bde3"
   },
   "outputs": [
    {
     "data": {
      "text/plain": [
       "((916, 2), (393, 2))"
      ]
     },
     "execution_count": 3,
     "metadata": {},
     "output_type": "execute_result"
    }
   ],
   "source": [
    "# Hãy chia thành tập huấn luyện và tập kiểm tra\n",
    "## Yêu cầu 1:\n",
    "## VIẾT CODE Ở ĐÂY:\n",
    "X_train, X_test, y_train, y_test = train_test_split(\n",
    "    data[['age', 'fare']],\n",
    "    data['survived'],\n",
    "    test_size=0.3,\n",
    "    random_state=0)\n",
    "\n",
    "X_train.shape, X_test.shape"
   ]
  },
  {
   "cell_type": "markdown",
   "metadata": {
    "id": "P-Bl8BhQjQVc"
   },
   "source": [
    "<details><summary> Gợi ý </summary>\n",
    "\n",
    "[train_test_split()](https://scikit-learn.org/stable/modules/generated/sklearn.model_selection.train_test_split.html)\n",
    "\n",
    "</details>"
   ]
  },
  {
   "cell_type": "markdown",
   "metadata": {
    "id": "Izu2A9Wsgnbi"
   },
   "source": [
    "Các biến age và fare chứa dữ liệu bị khuyết, chúng ta sẽ điền vào bằng cách trích xuất một mẫu ngẫu nhiên của biến."
   ]
  },
  {
   "cell_type": "code",
   "execution_count": 4,
   "metadata": {
    "id": "R2cMq5N9gnbi"
   },
   "outputs": [],
   "source": [
    "def impute_na(data, variable):\n",
    "\n",
    "    df = data.copy()\n",
    "\n",
    "    # lấy mẫu ngẫu nhiên\n",
    "    df[variable + '_random'] = df[variable]\n",
    "\n",
    "    # trích xuất mẫu ngẫu nhiên để điền na\n",
    "    random_sample = X_train[variable].dropna().sample(\n",
    "        df[variable].isnull().sum(), random_state=0)\n",
    "\n",
    "    # pandas cần có các index tương tự để hợp nhất các tập dữ liệu\n",
    "    random_sample.index = df[df[variable].isnull()].index\n",
    "    df.loc[df[variable].isnull(), variable + '_random'] = random_sample\n",
    "\n",
    "    return df[variable + '_random']"
   ]
  },
  {
   "cell_type": "code",
   "execution_count": 5,
   "metadata": {
    "id": "vasomK7rgnbj"
   },
   "outputs": [],
   "source": [
    "# thay NA ở cả tập huấn luyện và tập kiểm tra\n",
    "## Yêu cầu 2:\n",
    "## VIẾT CODE Ở ĐÂY:\n",
    "\n",
    "X_train['age'] = impute_na(X_train, 'age')\n",
    "X_test['age'] = impute_na(X_test, 'age')\n",
    "\n",
    "X_train['fare'] = impute_na(X_train, 'fare')\n",
    "X_test['fare'] = impute_na(X_test, 'fare')"
   ]
  },
  {
   "cell_type": "markdown",
   "metadata": {
    "id": "bygtdjS5j1bv"
   },
   "source": [
    "<details><summary> Gợi ý </summary>\n",
    "\n",
    "Sử dụng hàm ```impute_na()``` ở trên\n",
    "\n",
    "</details>"
   ]
  },
  {
   "cell_type": "code",
   "execution_count": 6,
   "metadata": {
    "id": "6shjIMz3gnbk",
    "outputId": "3420beb9-fb0b-4b49-cb2b-dc78fba1dc9d"
   },
   "outputs": [
    {
     "data": {
      "image/png": "[encoded data removed]",
      "text/plain": [
       "<Figure size 800x400 with 2 Axes>"
      ]
     },
     "metadata": {},
     "output_type": "display_data"
    }
   ],
   "source": [
    "# hãy khám phá phân phối của age\n",
    "\n",
    "data[['age', 'fare']].hist(bins=30, figsize=(8,4))\n",
    "plt.show()"
   ]
  },
  {
   "cell_type": "markdown",
   "metadata": {
    "id": "d4ikwbZ0gnbk"
   },
   "source": [
    "### Rời rạc hóa sử dụng khoảng cách bằng nhau với pandas và NumPy\n",
    "\n",
    "Trước tiên, chúng ta cần xác định các biên hoặc giới hạn của các khoảng."
   ]
  },
  {
   "cell_type": "code",
   "execution_count": 7,
   "metadata": {
    "id": "L9P_gNvHgnbl",
    "outputId": "9cbf0615-3138-49d5-f553-d0850165a3ab",
    "scrolled": true
   },
   "outputs": [
    {
     "data": {
      "text/plain": [
       "73.8333"
      ]
     },
     "execution_count": 7,
     "metadata": {},
     "output_type": "execute_result"
    }
   ],
   "source": [
    "# nắm bắt phạm vi của biến age\n",
    "## Yêu cầu 3:\n",
    "## VIẾT CODE Ở ĐÂY:\n",
    "age_range = X_train['age'].max() - X_train['age'].min()\n",
    "\n",
    "age_range"
   ]
  },
  {
   "cell_type": "markdown",
   "metadata": {
    "id": "C8tG4lVQkG1g"
   },
   "source": [
    "<details><summary> Gợi ý </summary>\n",
    "\n",
    "[max()](https://pandas.pydata.org/docs/reference/api/pandas.DataFrame.max.html)\n",
    "\n",
    "</details>"
   ]
  },
  {
   "cell_type": "code",
   "execution_count": 8,
   "metadata": {
    "id": "P6vItxFVgnbm",
    "outputId": "5daa0e88-f9ae-4f9b-84cc-853838d4773e"
   },
   "outputs": [
    {
     "data": {
      "text/plain": [
       "9.2291625"
      ]
     },
     "execution_count": 8,
     "metadata": {},
     "output_type": "execute_result"
    }
   ],
   "source": [
    "# hãy chia phạm vi thành 8 bin có khoảng cách bằng nhau\n",
    "\n",
    "age_range / 8"
   ]
  },
  {
   "cell_type": "markdown",
   "metadata": {
    "id": "GJsqgMUKgnbm"
   },
   "source": [
    "Phạm vi hoặc khoảng cách của các khoảng ~9 năm."
   ]
  },
  {
   "cell_type": "code",
   "execution_count": 9,
   "metadata": {
    "id": "zFxRbbh6gnbn",
    "outputId": "5b5cb7a8-180e-4f62-cd81-7d9d1545927a"
   },
   "outputs": [
    {
     "data": {
      "text/plain": [
       "(0, 74, 9)"
      ]
     },
     "execution_count": 9,
     "metadata": {},
     "output_type": "execute_result"
    }
   ],
   "source": [
    "# nắm bắt giới hạn trên và dưới\n",
    "\n",
    "## Yêu cầu 4:\n",
    "## VIẾT CODE Ở ĐÂY:\n",
    "\n",
    "min_value = int(np.floor( X_train['age'].min()))\n",
    "max_value = int(np.ceil( X_train['age'].max()))\n",
    "\n",
    "# làm tròn khoảng cách của bin\n",
    "inter_value = int(np.round(age_range / 8))\n",
    "\n",
    "min_value, max_value, inter_value"
   ]
  },
  {
   "cell_type": "markdown",
   "metadata": {
    "id": "s7983v3tkT-L"
   },
   "source": [
    "<details><summary> Gợi ý </summary>\n",
    "\n",
    "[min()](https://pandas.pydata.org/docs/reference/api/pandas.DataFrame.min.html)\n",
    "\n",
    "[max()](https://pandas.pydata.org/docs/reference/api/pandas.DataFrame.max.html)\n",
    "\n",
    "</details>"
   ]
  },
  {
   "cell_type": "code",
   "execution_count": 11,
   "metadata": {
    "id": "_jUQisHLgnbo",
    "outputId": "de1592d3-d2f5-47c0-f349-fb43648e558d",
    "scrolled": false
   },
   "outputs": [
    {
     "data": {
      "text/plain": [
       "[0, 9, 18, 27, 36, 45, 54, 63, 72, 81]"
      ]
     },
     "execution_count": 11,
     "metadata": {},
     "output_type": "execute_result"
    }
   ],
   "source": [
    "# nắm bắt giới hạn của khoảng để truyền vào \n",
    "# hàm pandas cut để tạo bin\n",
    "\n",
    "## Yêu cầu 5:\n",
    "## VIẾT CODE Ở ĐÂY:\n",
    "\n",
    "intervals = [i for i in range(min_value, max_value+inter_value, inter_value)]\n",
    "\n",
    "intervals"
   ]
  },
  {
   "cell_type": "code",
   "execution_count": 12,
   "metadata": {
    "id": "ccyQbizQgnbo",
    "outputId": "c2534c02-e032-47c5-d369-d64f8bb3a7bd"
   },
   "outputs": [
    {
     "data": {
      "text/plain": [
       "['Bin_1',\n",
       " 'Bin_2',\n",
       " 'Bin_3',\n",
       " 'Bin_4',\n",
       " 'Bin_5',\n",
       " 'Bin_6',\n",
       " 'Bin_7',\n",
       " 'Bin_8',\n",
       " 'Bin_9']"
      ]
     },
     "execution_count": 12,
     "metadata": {},
     "output_type": "execute_result"
    }
   ],
   "source": [
    "# tạo nhãn để dán nhãn các bin khác nhau\n",
    "\n",
    "## Yêu cầu 6:\n",
    "## VIẾT CODE Ở ĐÂY:\n",
    "\n",
    "labels = ['Bin_' + str(i) for i in range(1, len(intervals))]\n",
    "\n",
    "labels"
   ]
  },
  {
   "cell_type": "code",
   "execution_count": 13,
   "metadata": {
    "id": "tC1HrCaWgnbo",
    "outputId": "2297ae4f-e90a-403d-bfa1-55eab8d57acd"
   },
   "outputs": [
    {
     "data": {
      "text/html": [
       "<div>\n",
       "<style scoped>\n",
       "    .dataframe tbody tr th:only-of-type {\n",
       "        vertical-align: middle;\n",
       "    }\n",
       "\n",
       "    .dataframe tbody tr th {\n",
       "        vertical-align: top;\n",
       "    }\n",
       "\n",
       "    .dataframe thead th {\n",
       "        text-align: right;\n",
       "    }\n",
       "</style>\n",
       "<table border=\"1\" class=\"dataframe\">\n",
       "  <thead>\n",
       "    <tr style=\"text-align: right;\">\n",
       "      <th></th>\n",
       "      <th>age</th>\n",
       "      <th>fare</th>\n",
       "      <th>Age_disc_labels</th>\n",
       "      <th>Age_disc</th>\n",
       "    </tr>\n",
       "  </thead>\n",
       "  <tbody>\n",
       "    <tr>\n",
       "      <th>501</th>\n",
       "      <td>13.0</td>\n",
       "      <td>19.5000</td>\n",
       "      <td>Bin_2</td>\n",
       "      <td>(9.0, 18.0]</td>\n",
       "    </tr>\n",
       "    <tr>\n",
       "      <th>588</th>\n",
       "      <td>4.0</td>\n",
       "      <td>23.0000</td>\n",
       "      <td>Bin_1</td>\n",
       "      <td>(-0.001, 9.0]</td>\n",
       "    </tr>\n",
       "    <tr>\n",
       "      <th>402</th>\n",
       "      <td>30.0</td>\n",
       "      <td>13.8583</td>\n",
       "      <td>Bin_4</td>\n",
       "      <td>(27.0, 36.0]</td>\n",
       "    </tr>\n",
       "    <tr>\n",
       "      <th>1193</th>\n",
       "      <td>40.5</td>\n",
       "      <td>7.7250</td>\n",
       "      <td>Bin_5</td>\n",
       "      <td>(36.0, 45.0]</td>\n",
       "    </tr>\n",
       "    <tr>\n",
       "      <th>686</th>\n",
       "      <td>22.0</td>\n",
       "      <td>7.7250</td>\n",
       "      <td>Bin_3</td>\n",
       "      <td>(18.0, 27.0]</td>\n",
       "    </tr>\n",
       "    <tr>\n",
       "      <th>971</th>\n",
       "      <td>39.0</td>\n",
       "      <td>7.8792</td>\n",
       "      <td>Bin_5</td>\n",
       "      <td>(36.0, 45.0]</td>\n",
       "    </tr>\n",
       "    <tr>\n",
       "      <th>117</th>\n",
       "      <td>30.0</td>\n",
       "      <td>56.9292</td>\n",
       "      <td>Bin_4</td>\n",
       "      <td>(27.0, 36.0]</td>\n",
       "    </tr>\n",
       "    <tr>\n",
       "      <th>540</th>\n",
       "      <td>2.0</td>\n",
       "      <td>26.0000</td>\n",
       "      <td>Bin_1</td>\n",
       "      <td>(-0.001, 9.0]</td>\n",
       "    </tr>\n",
       "    <tr>\n",
       "      <th>294</th>\n",
       "      <td>49.0</td>\n",
       "      <td>110.8833</td>\n",
       "      <td>Bin_6</td>\n",
       "      <td>(45.0, 54.0]</td>\n",
       "    </tr>\n",
       "    <tr>\n",
       "      <th>261</th>\n",
       "      <td>35.0</td>\n",
       "      <td>26.2875</td>\n",
       "      <td>Bin_4</td>\n",
       "      <td>(27.0, 36.0]</td>\n",
       "    </tr>\n",
       "  </tbody>\n",
       "</table>\n",
       "</div>"
      ],
      "text/plain": [
       "       age      fare Age_disc_labels       Age_disc\n",
       "501   13.0   19.5000           Bin_2    (9.0, 18.0]\n",
       "588    4.0   23.0000           Bin_1  (-0.001, 9.0]\n",
       "402   30.0   13.8583           Bin_4   (27.0, 36.0]\n",
       "1193  40.5    7.7250           Bin_5   (36.0, 45.0]\n",
       "686   22.0    7.7250           Bin_3   (18.0, 27.0]\n",
       "971   39.0    7.8792           Bin_5   (36.0, 45.0]\n",
       "117   30.0   56.9292           Bin_4   (27.0, 36.0]\n",
       "540    2.0   26.0000           Bin_1  (-0.001, 9.0]\n",
       "294   49.0  110.8833           Bin_6   (45.0, 54.0]\n",
       "261   35.0   26.2875           Bin_4   (27.0, 36.0]"
      ]
     },
     "execution_count": 13,
     "metadata": {},
     "output_type": "execute_result"
    }
   ],
   "source": [
    "# tạo bin age/rời rạc hóa age\n",
    "\n",
    "# tạo một cột có các nhãn\n",
    "X_train['Age_disc_labels'] = pd.cut(x=X_train['age'],\n",
    "                                    bins=intervals,\n",
    "                                    labels=labels,\n",
    "                                    include_lowest=True)\n",
    "\n",
    "# và một cột có các ranh giới bin\n",
    "X_train['Age_disc'] = pd.cut(x=X_train['age'],\n",
    "                             bins=intervals,\n",
    "                             include_lowest=True)\n",
    "\n",
    "X_train.head(10)"
   ]
  },
  {
   "cell_type": "markdown",
   "metadata": {
    "id": "qIP9yFcKgnbp"
   },
   "source": [
    "Như đã thấy, bằng cách rời rạc hóa sử dụng khoảng cách bằng nhau, chúng ta đặt mỗi quan sát Age trong một khoảng / bin. Ví dụ: age=13 được đặt trong khoảng 9-18, trong khi age=30 được đặt trong khoảng 27-36.\n",
    "\n",
    "Khi thực hiện rời rạc hóa sử dụng khoảng cách bằng nhau, chúng ta đảm bảo rằng tất cả các khoảng đều có cùng độ dài, tuy nhiên không nhất thiết phải có cùng số lượng quan sát ở mỗi khoảng. Hãy xem bên dưới: "
   ]
  },
  {
   "cell_type": "code",
   "execution_count": 14,
   "metadata": {
    "id": "Q_q-YepUgnbp",
    "outputId": "e7832c2a-8d9e-4c44-a8a0-fb4201104a90"
   },
   "outputs": [
    {
     "data": {
      "text/plain": [
       "Age_disc\n",
       "(-0.001, 9.0]     64\n",
       "(9.0, 18.0]       88\n",
       "(18.0, 27.0]     279\n",
       "(27.0, 36.0]     229\n",
       "(36.0, 45.0]     120\n",
       "(45.0, 54.0]      78\n",
       "(54.0, 63.0]      43\n",
       "(63.0, 72.0]      14\n",
       "(72.0, 81.0]       1\n",
       "Name: age, dtype: int64"
      ]
     },
     "execution_count": 14,
     "metadata": {},
     "output_type": "execute_result"
    }
   ],
   "source": [
    "X_train.groupby('Age_disc')['age'].count()"
   ]
  },
  {
   "cell_type": "code",
   "execution_count": 15,
   "metadata": {
    "id": "4YB4uYSIgnbp",
    "outputId": "387cb0b5-74a9-4002-ea7e-24c4876547af"
   },
   "outputs": [
    {
     "data": {
      "text/plain": [
       "Text(0, 0.5, 'Number of observations per bin')"
      ]
     },
     "execution_count": 15,
     "metadata": {},
     "output_type": "execute_result"
    },
    {
     "data": {
      "image/png": "[encoded data removed]",
      "text/plain": [
       "<Figure size 640x480 with 1 Axes>"
      ]
     },
     "metadata": {},
     "output_type": "display_data"
    }
   ],
   "source": [
    "X_train.groupby('Age_disc')['age'].count().plot.bar()\n",
    "plt.xticks(rotation=45)\n",
    "plt.ylabel('Number of observations per bin')"
   ]
  },
  {
   "cell_type": "markdown",
   "metadata": {
    "id": "_dM2rB2egnbq"
   },
   "source": [
    "Phần lớn mọi người trên tàu Titanic từ 18-36 tuổi.\n",
    "\n",
    "Giờ đây, chúng ta có thể rời rạc hóa Age trong tập kiểm tra, sử dụng cùng các ranh giới khoảng đã tính cho tập huấn luyện: "
   ]
  },
  {
   "cell_type": "code",
   "execution_count": 16,
   "metadata": {
    "id": "k2uBS0bOgnbq",
    "outputId": "c03f4563-9d8a-40c9-bad9-d2e957ab80a5"
   },
   "outputs": [
    {
     "data": {
      "text/html": [
       "<div>\n",
       "<style scoped>\n",
       "    .dataframe tbody tr th:only-of-type {\n",
       "        vertical-align: middle;\n",
       "    }\n",
       "\n",
       "    .dataframe tbody tr th {\n",
       "        vertical-align: top;\n",
       "    }\n",
       "\n",
       "    .dataframe thead th {\n",
       "        text-align: right;\n",
       "    }\n",
       "</style>\n",
       "<table border=\"1\" class=\"dataframe\">\n",
       "  <thead>\n",
       "    <tr style=\"text-align: right;\">\n",
       "      <th></th>\n",
       "      <th>age</th>\n",
       "      <th>fare</th>\n",
       "      <th>Age_disc_labels</th>\n",
       "      <th>Age_disc</th>\n",
       "    </tr>\n",
       "  </thead>\n",
       "  <tbody>\n",
       "    <tr>\n",
       "      <th>1139</th>\n",
       "      <td>38.0</td>\n",
       "      <td>7.8958</td>\n",
       "      <td>Bin_5</td>\n",
       "      <td>(36.0, 45.0]</td>\n",
       "    </tr>\n",
       "    <tr>\n",
       "      <th>533</th>\n",
       "      <td>21.0</td>\n",
       "      <td>21.0000</td>\n",
       "      <td>Bin_3</td>\n",
       "      <td>(18.0, 27.0]</td>\n",
       "    </tr>\n",
       "    <tr>\n",
       "      <th>459</th>\n",
       "      <td>42.0</td>\n",
       "      <td>27.0000</td>\n",
       "      <td>Bin_5</td>\n",
       "      <td>(36.0, 45.0]</td>\n",
       "    </tr>\n",
       "    <tr>\n",
       "      <th>1150</th>\n",
       "      <td>3.0</td>\n",
       "      <td>14.5000</td>\n",
       "      <td>Bin_1</td>\n",
       "      <td>(-0.001, 9.0]</td>\n",
       "    </tr>\n",
       "    <tr>\n",
       "      <th>393</th>\n",
       "      <td>25.0</td>\n",
       "      <td>31.5000</td>\n",
       "      <td>Bin_3</td>\n",
       "      <td>(18.0, 27.0]</td>\n",
       "    </tr>\n",
       "  </tbody>\n",
       "</table>\n",
       "</div>"
      ],
      "text/plain": [
       "       age     fare Age_disc_labels       Age_disc\n",
       "1139  38.0   7.8958           Bin_5   (36.0, 45.0]\n",
       "533   21.0  21.0000           Bin_3   (18.0, 27.0]\n",
       "459   42.0  27.0000           Bin_5   (36.0, 45.0]\n",
       "1150   3.0  14.5000           Bin_1  (-0.001, 9.0]\n",
       "393   25.0  31.5000           Bin_3   (18.0, 27.0]"
      ]
     },
     "execution_count": 16,
     "metadata": {},
     "output_type": "execute_result"
    }
   ],
   "source": [
    "## Yêu cầu 7:\n",
    "## VIẾT CODE Ở ĐÂY:\n",
    "\n",
    "X_test['Age_disc_labels'] = pd.cut(x=X_test['age'],\n",
    "                                   bins=intervals,\n",
    "                                   labels=labels,\n",
    "                                   include_lowest=True)\n",
    "\n",
    "X_test['Age_disc'] = pd.cut(x=X_test['age'],\n",
    "                            bins=intervals,\n",
    "                            include_lowest=True)\n",
    "\n",
    "X_test.head()"
   ]
  },
  {
   "cell_type": "markdown",
   "metadata": {
    "id": "AYj3WfGelMM2"
   },
   "source": [
    "<details><summary> Gợi ý </summary>\n",
    "\n",
    "[cut()](https://pandas.pydata.org/docs/reference/api/pandas.cut.html)\n",
    "\n",
    "</details>"
   ]
  },
  {
   "cell_type": "code",
   "execution_count": 17,
   "metadata": {
    "id": "0G3IOYHOgnbq",
    "outputId": "f7af3143-1cf0-4a8e-c459-f033677b4430"
   },
   "outputs": [
    {
     "data": {
      "text/plain": [
       "Text(0, 0.5, 'Number of observations per bin')"
      ]
     },
     "execution_count": 17,
     "metadata": {},
     "output_type": "execute_result"
    },
    {
     "data": {
      "image/png": "[encoded data removed]",
      "text/plain": [
       "<Figure size 640x480 with 1 Axes>"
      ]
     },
     "metadata": {},
     "output_type": "display_data"
    }
   ],
   "source": [
    "# nếu phân phối trong tập huấn luyện và tập kiểm tra tương tự, chúng ta kỳ vọng tỷ lệ tương tự của\n",
    "# quan sát ở các khoảng khác nhau trong tập huấn luyện và tập kiểm tra\n",
    "# hãy xem bên dưới\n",
    "\n",
    "## Yêu cầu 8:\n",
    "## VIẾT CODE Ở ĐÂY:\n",
    "t1 = X_train.groupby(['Age_disc'])['age'].count() / len(X_train)\n",
    "t2 = X_test.groupby(['Age_disc'])['age'].count() / len(X_test)\n",
    "\n",
    "tmp = pd.concat([t1, t2], axis=1)\n",
    "tmp.columns = ['train', 'test']\n",
    "tmp.plot.bar()\n",
    "plt.xticks(rotation=45)\n",
    "plt.ylabel('Number of observations per bin')"
   ]
  },
  {
   "cell_type": "markdown",
   "metadata": {
    "id": "Q6AEeOOEgnbq"
   },
   "source": [
    "### Rời rạc hóa sử dụng khoảng cách bằng nhau với Feature-Engine"
   ]
  },
  {
   "cell_type": "code",
   "execution_count": 18,
   "metadata": {
    "id": "H16HAse1gnbr",
    "outputId": "412adc9e-fb38-483e-f4e2-2c9daa7d97a5"
   },
   "outputs": [
    {
     "data": {
      "text/plain": [
       "((916, 2), (393, 2))"
      ]
     },
     "execution_count": 18,
     "metadata": {},
     "output_type": "execute_result"
    }
   ],
   "source": [
    "# Hãy chia thành tập huấn luyện và tập kiểm tra\n",
    "\n",
    "## Yêu cầu 9:\n",
    "## VIẾT CODE Ở ĐÂY:\n",
    "\n",
    "X_train, X_test, y_train, y_test = train_test_split(\n",
    "    data[['age', 'fare']],\n",
    "    data['survived'],\n",
    "    test_size=0.3,\n",
    "    random_state=0)\n",
    "\n",
    "X_train.shape, X_test.shape"
   ]
  },
  {
   "cell_type": "markdown",
   "metadata": {
    "id": "jY_YajWDnS_X"
   },
   "source": [
    "<details><summary> Gợi ý </summary>\n",
    "\n",
    "[train_test_split()](https://scikit-learn.org/stable/modules/generated/sklearn.model_selection.train_test_split.html)\n",
    "\n",
    "</details>"
   ]
  },
  {
   "cell_type": "code",
   "execution_count": 19,
   "metadata": {
    "id": "0a7tCKykgnbr"
   },
   "outputs": [],
   "source": [
    "# thay NA ở cả tập huấn luyện và tập kiểm tra\n",
    "## Yêu cầu 10:\n",
    "## VIẾT CODE Ở ĐÂY:\n",
    "\n",
    "X_train['age'] = impute_na(data, 'age')\n",
    "X_test['age'] = impute_na(data, 'age')\n",
    "\n",
    "X_train['fare'] = impute_na(data, 'age')\n",
    "X_test['fare'] = impute_na(data, 'fare')"
   ]
  },
  {
   "cell_type": "markdown",
   "metadata": {
    "id": "sMDK-EVRnDpO"
   },
   "source": [
    "<details><summary> Gợi ý </summary>\n",
    "\n",
    "Sử dụng hàm ```impute_na()``` ở trên\n",
    "\n",
    "</details>"
   ]
  },
  {
   "cell_type": "code",
   "execution_count": 20,
   "metadata": {
    "id": "7U3rF6nlgnbr",
    "outputId": "4df00665-7e2f-4220-e15b-1aa089ee6a15"
   },
   "outputs": [
    {
     "data": {
      "text/html": [
       "<style>#sk-container-id-1 {color: black;background-color: white;}#sk-container-id-1 pre{padding: 0;}#sk-container-id-1 div.sk-toggleable {background-color: white;}#sk-container-id-1 label.sk-toggleable__label {cursor: pointer;display: block;width: 100%;margin-bottom: 0;padding: 0.3em;box-sizing: border-box;text-align: center;}#sk-container-id-1 label.sk-toggleable__label-arrow:before {content: \"▸\";float: left;margin-right: 0.25em;color: #696969;}#sk-container-id-1 label.sk-toggleable__label-arrow:hover:before {color: black;}#sk-container-id-1 div.sk-estimator:hover label.sk-toggleable__label-arrow:before {color: black;}#sk-container-id-1 div.sk-toggleable__content {max-height: 0;max-width: 0;overflow: hidden;text-align: left;background-color: #f0f8ff;}#sk-container-id-1 div.sk-toggleable__content pre {margin: 0.2em;color: black;border-radius: 0.25em;background-color: #f0f8ff;}#sk-container-id-1 input.sk-toggleable__control:checked~div.sk-toggleable__content {max-height: 200px;max-width: 100%;overflow: auto;}#sk-container-id-1 input.sk-toggleable__control:checked~label.sk-toggleable__label-arrow:before {content: \"▾\";}#sk-container-id-1 div.sk-estimator input.sk-toggleable__control:checked~label.sk-toggleable__label {background-color: #d4ebff;}#sk-container-id-1 div.sk-label input.sk-toggleable__control:checked~label.sk-toggleable__label {background-color: #d4ebff;}#sk-container-id-1 input.sk-hidden--visually {border: 0;clip: rect(1px 1px 1px 1px);clip: rect(1px, 1px, 1px, 1px);height: 1px;margin: -1px;overflow: hidden;padding: 0;position: absolute;width: 1px;}#sk-container-id-1 div.sk-estimator {font-family: monospace;background-color: #f0f8ff;border: 1px dotted black;border-radius: 0.25em;box-sizing: border-box;margin-bottom: 0.5em;}#sk-container-id-1 div.sk-estimator:hover {background-color: #d4ebff;}#sk-container-id-1 div.sk-parallel-item::after {content: \"\";width: 100%;border-bottom: 1px solid gray;flex-grow: 1;}#sk-container-id-1 div.sk-label:hover label.sk-toggleable__label {background-color: #d4ebff;}#sk-container-id-1 div.sk-serial::before {content: \"\";position: absolute;border-left: 1px solid gray;box-sizing: border-box;top: 0;bottom: 0;left: 50%;z-index: 0;}#sk-container-id-1 div.sk-serial {display: flex;flex-direction: column;align-items: center;background-color: white;padding-right: 0.2em;padding-left: 0.2em;position: relative;}#sk-container-id-1 div.sk-item {position: relative;z-index: 1;}#sk-container-id-1 div.sk-parallel {display: flex;align-items: stretch;justify-content: center;background-color: white;position: relative;}#sk-container-id-1 div.sk-item::before, #sk-container-id-1 div.sk-parallel-item::before {content: \"\";position: absolute;border-left: 1px solid gray;box-sizing: border-box;top: 0;bottom: 0;left: 50%;z-index: -1;}#sk-container-id-1 div.sk-parallel-item {display: flex;flex-direction: column;z-index: 1;position: relative;background-color: white;}#sk-container-id-1 div.sk-parallel-item:first-child::after {align-self: flex-end;width: 50%;}#sk-container-id-1 div.sk-parallel-item:last-child::after {align-self: flex-start;width: 50%;}#sk-container-id-1 div.sk-parallel-item:only-child::after {width: 0;}#sk-container-id-1 div.sk-dashed-wrapped {border: 1px dashed gray;margin: 0 0.4em 0.5em 0.4em;box-sizing: border-box;padding-bottom: 0.4em;background-color: white;}#sk-container-id-1 div.sk-label label {font-family: monospace;font-weight: bold;display: inline-block;line-height: 1.2em;}#sk-container-id-1 div.sk-label-container {text-align: center;}#sk-container-id-1 div.sk-container {/* jupyter's `normalize.less` sets `[hidden] { display: none; }` but bootstrap.min.css set `[hidden] { display: none !important; }` so we also need the `!important` here to be able to override the default hidden behavior on the sphinx rendered scikit-learn.org. See: https://github.com/scikit-learn/scikit-learn/issues/21755 */display: inline-block !important;position: relative;}#sk-container-id-1 div.sk-text-repr-fallback {display: none;}</style><div id=\"sk-container-id-1\" class=\"sk-top-container\"><div class=\"sk-text-repr-fallback\"><pre>EqualWidthDiscretiser(bins=8, variables=[&#x27;age&#x27;, &#x27;fare&#x27;])</pre><b>In a Jupyter environment, please rerun this cell to show the HTML representation or trust the notebook. <br />On GitHub, the HTML representation is unable to render, please try loading this page with nbviewer.org.</b></div><div class=\"sk-container\" hidden><div class=\"sk-item\"><div class=\"sk-estimator sk-toggleable\"><input class=\"sk-toggleable__control sk-hidden--visually\" id=\"sk-estimator-id-1\" type=\"checkbox\" checked><label for=\"sk-estimator-id-1\" class=\"sk-toggleable__label sk-toggleable__label-arrow\">EqualWidthDiscretiser</label><div class=\"sk-toggleable__content\"><pre>EqualWidthDiscretiser(bins=8, variables=[&#x27;age&#x27;, &#x27;fare&#x27;])</pre></div></div></div></div></div>"
      ],
      "text/plain": [
       "EqualWidthDiscretiser(bins=8, variables=['age', 'fare'])"
      ]
     },
     "execution_count": 20,
     "metadata": {},
     "output_type": "execute_result"
    }
   ],
   "source": [
    "# với feature-engine, chúng ta có thể tự động hóa quá trình cho nhiều biến\n",
    "# trong 1 dòng code\n",
    "\n",
    "## Yêu cầu 11:\n",
    "## VIẾT CODE Ở ĐÂY:\n",
    "disc = EqualWidthDiscretiser(bins=8, variables = ['age', 'fare'])\n",
    "\n",
    "disc.fit(X_train)"
   ]
  },
  {
   "cell_type": "markdown",
   "metadata": {
    "id": "bDTlJouxlz62"
   },
   "source": [
    "<details><summary> Gợi ý </summary>\n",
    "\n",
    "[EqualWidthDiscretiser()](https://feature-engine.readthedocs.io/en/0.6.x_a/discretisers/EqualWidthDiscretiser.html)\n",
    "\n",
    "</details>"
   ]
  },
  {
   "cell_type": "code",
   "execution_count": 21,
   "metadata": {
    "id": "Oq0mu1_Kgnbr",
    "outputId": "df3fbfee-52eb-4cff-b8ba-1017cc914c61"
   },
   "outputs": [
    {
     "data": {
      "text/plain": [
       "{'age': [-inf,\n",
       "  9.3958625,\n",
       "  18.625024999999997,\n",
       "  27.854187499999995,\n",
       "  37.083349999999996,\n",
       "  46.3125125,\n",
       "  55.54167499999999,\n",
       "  64.7708375,\n",
       "  inf],\n",
       " 'fare': [-inf,\n",
       "  9.3958625,\n",
       "  18.625024999999997,\n",
       "  27.854187499999995,\n",
       "  37.083349999999996,\n",
       "  46.3125125,\n",
       "  55.54167499999999,\n",
       "  64.7708375,\n",
       "  inf]}"
      ]
     },
     "execution_count": 21,
     "metadata": {},
     "output_type": "execute_result"
    }
   ],
   "source": [
    "# trong dict binner, chúng ta thấy giới hạn của các khoảng cho age\n",
    "# giá trị tăng khoảng 9 năm từ 1 bin tới bin tiếp theo\n",
    "\n",
    "# với fare, nó tăng khoảng 60-70 USD từ một khoảng tới khoảng tiếp theo,\n",
    "# nhưng nó luôn tăng cùng một giá trị hay cùng khoảng cách.\n",
    "\n",
    "disc.binner_dict_"
   ]
  },
  {
   "cell_type": "code",
   "execution_count": 22,
   "metadata": {
    "id": "EbDUUNvLgnbr"
   },
   "outputs": [],
   "source": [
    "# biến đổi train và test\n",
    "\n",
    "train_t = disc.transform(X_train)\n",
    "test_t = disc.transform(X_test)"
   ]
  },
  {
   "cell_type": "code",
   "execution_count": 23,
   "metadata": {
    "id": "J-rl3yjvgnbr",
    "outputId": "89220ea8-89ca-476d-97fe-bc3bd1ffb85e"
   },
   "outputs": [
    {
     "data": {
      "text/html": [
       "<div>\n",
       "<style scoped>\n",
       "    .dataframe tbody tr th:only-of-type {\n",
       "        vertical-align: middle;\n",
       "    }\n",
       "\n",
       "    .dataframe tbody tr th {\n",
       "        vertical-align: top;\n",
       "    }\n",
       "\n",
       "    .dataframe thead th {\n",
       "        text-align: right;\n",
       "    }\n",
       "</style>\n",
       "<table border=\"1\" class=\"dataframe\">\n",
       "  <thead>\n",
       "    <tr style=\"text-align: right;\">\n",
       "      <th></th>\n",
       "      <th>age</th>\n",
       "      <th>fare</th>\n",
       "    </tr>\n",
       "  </thead>\n",
       "  <tbody>\n",
       "    <tr>\n",
       "      <th>501</th>\n",
       "      <td>1</td>\n",
       "      <td>1</td>\n",
       "    </tr>\n",
       "    <tr>\n",
       "      <th>588</th>\n",
       "      <td>0</td>\n",
       "      <td>0</td>\n",
       "    </tr>\n",
       "    <tr>\n",
       "      <th>402</th>\n",
       "      <td>3</td>\n",
       "      <td>3</td>\n",
       "    </tr>\n",
       "    <tr>\n",
       "      <th>1193</th>\n",
       "      <td>2</td>\n",
       "      <td>7</td>\n",
       "    </tr>\n",
       "    <tr>\n",
       "      <th>686</th>\n",
       "      <td>2</td>\n",
       "      <td>2</td>\n",
       "    </tr>\n",
       "  </tbody>\n",
       "</table>\n",
       "</div>"
      ],
      "text/plain": [
       "      age  fare\n",
       "501     1     1\n",
       "588     0     0\n",
       "402     3     3\n",
       "1193    2     7\n",
       "686     2     2"
      ]
     },
     "execution_count": 23,
     "metadata": {},
     "output_type": "execute_result"
    }
   ],
   "source": [
    "train_t.head()"
   ]
  },
  {
   "cell_type": "code",
   "execution_count": 24,
   "metadata": {
    "id": "C5b2xGhegnbs",
    "outputId": "b4f0112b-73ca-494d-a823-65de9861a86f"
   },
   "outputs": [
    {
     "data": {
      "text/plain": [
       "Text(0, 0.5, 'Number of observations per bin')"
      ]
     },
     "execution_count": 24,
     "metadata": {},
     "output_type": "execute_result"
    },
    {
     "data": {
      "image/png": "[encoded data removed]",
      "text/plain": [
       "<Figure size 640x480 with 1 Axes>"
      ]
     },
     "metadata": {},
     "output_type": "display_data"
    }
   ],
   "source": [
    "t1 = train_t.groupby(['age'])['age'].count() / len(train_t)\n",
    "t2 = test_t.groupby(['age'])['age'].count() / len(test_t)\n",
    "\n",
    "tmp = pd.concat([t1, t2], axis=1)\n",
    "tmp.columns = ['train', 'test']\n",
    "tmp.plot.bar()\n",
    "plt.xticks(rotation=0)\n",
    "plt.ylabel('Number of observations per bin')"
   ]
  },
  {
   "cell_type": "code",
   "execution_count": 25,
   "metadata": {
    "id": "5_N1NSpxgnbs",
    "outputId": "e9b51c49-0b40-4e69-81ab-78bbe96eb5a9"
   },
   "outputs": [
    {
     "data": {
      "text/plain": [
       "Text(0, 0.5, 'Number of observations per bin')"
      ]
     },
     "execution_count": 25,
     "metadata": {},
     "output_type": "execute_result"
    },
    {
     "data": {
      "image/png": "[encoded data removed]",
      "text/plain": [
       "<Figure size 640x480 with 1 Axes>"
      ]
     },
     "metadata": {},
     "output_type": "display_data"
    }
   ],
   "source": [
    "t1 = train_t.groupby(['fare'])['fare'].count() / len(train_t)\n",
    "t2 = test_t.groupby(['fare'])['fare'].count() / len(test_t)\n",
    "\n",
    "tmp = pd.concat([t1, t2], axis=1)\n",
    "tmp.columns = ['train', 'test']\n",
    "tmp.plot.bar()\n",
    "plt.xticks(rotation=0)\n",
    "plt.ylabel('Number of observations per bin')"
   ]
  },
  {
   "cell_type": "markdown",
   "metadata": {
    "collapsed": true,
    "id": "U5cNUqy2gnbs"
   },
   "source": [
    "Chúng ta có thể thấy khá rõ ràng, rời rạc hóa sử dụng khoảng cách bằng nhau không cải thiện chênh lệch giá trị. Biến fare ban đầu và biến rời rạc bị lệch.\n",
    "\n",
    "### Rời rạc hóa sử dụng khoảng cách bằng nhau với Scikit-learn"
   ]
  },
  {
   "cell_type": "code",
   "execution_count": 26,
   "metadata": {
    "id": "B28UmD1sgnbs",
    "outputId": "c41c909b-9e78-4a70-a77a-f4c1bb13acf0"
   },
   "outputs": [
    {
     "data": {
      "text/plain": [
       "((916, 2), (393, 2))"
      ]
     },
     "execution_count": 26,
     "metadata": {},
     "output_type": "execute_result"
    }
   ],
   "source": [
    "# Hãy chia thành tập huấn luyện và tập kiểm tra\n",
    "\n",
    "## Yêu cầu 12:\n",
    "## VIẾT CODE Ở ĐÂY:\n",
    "X_train, X_test, y_train, y_test = train_test_split(\n",
    "    data[['age', 'fare']],\n",
    "    data['survived'],\n",
    "    test_size=0.3,\n",
    "    random_state=0)\n",
    "\n",
    "X_train.shape, X_test.shape"
   ]
  },
  {
   "cell_type": "markdown",
   "metadata": {
    "id": "SXJB1aoPnUB6"
   },
   "source": [
    "<details><summary> Gợi ý </summary>\n",
    "\n",
    "[train_test_split()](https://scikit-learn.org/stable/modules/generated/sklearn.model_selection.train_test_split.html)\n",
    "\n",
    "</details>"
   ]
  },
  {
   "cell_type": "code",
   "execution_count": 27,
   "metadata": {
    "id": "IHHTIhmHgnbt"
   },
   "outputs": [],
   "source": [
    "# thay NA ở cả tập huấn luyện và tập kiểm tra\n",
    "\n",
    "## Yêu cầu 13:\n",
    "## VIẾT CODE Ở ĐÂY:\n",
    "X_train['age'] = impute_na(data, 'age')\n",
    "X_test['age'] = impute_na(data, 'age')\n",
    "\n",
    "X_train['fare'] = impute_na(data, 'fare')\n",
    "X_test['fare'] = impute_na(data, 'fare')"
   ]
  },
  {
   "cell_type": "markdown",
   "metadata": {
    "id": "HzmU9ky6nE3I"
   },
   "source": [
    "<details><summary> Gợi ý </summary>\n",
    "\n",
    "Sử dụng hàm function ```impute_na()``` ở trên\n",
    "\n",
    "</details>"
   ]
  },
  {
   "cell_type": "code",
   "execution_count": 28,
   "metadata": {
    "id": "ifcFyvGBgnbt",
    "outputId": "5419363b-9615-4820-bc22-ef0023da6548"
   },
   "outputs": [
    {
     "data": {
      "text/html": [
       "<style>#sk-container-id-2 {color: black;background-color: white;}#sk-container-id-2 pre{padding: 0;}#sk-container-id-2 div.sk-toggleable {background-color: white;}#sk-container-id-2 label.sk-toggleable__label {cursor: pointer;display: block;width: 100%;margin-bottom: 0;padding: 0.3em;box-sizing: border-box;text-align: center;}#sk-container-id-2 label.sk-toggleable__label-arrow:before {content: \"▸\";float: left;margin-right: 0.25em;color: #696969;}#sk-container-id-2 label.sk-toggleable__label-arrow:hover:before {color: black;}#sk-container-id-2 div.sk-estimator:hover label.sk-toggleable__label-arrow:before {color: black;}#sk-container-id-2 div.sk-toggleable__content {max-height: 0;max-width: 0;overflow: hidden;text-align: left;background-color: #f0f8ff;}#sk-container-id-2 div.sk-toggleable__content pre {margin: 0.2em;color: black;border-radius: 0.25em;background-color: #f0f8ff;}#sk-container-id-2 input.sk-toggleable__control:checked~div.sk-toggleable__content {max-height: 200px;max-width: 100%;overflow: auto;}#sk-container-id-2 input.sk-toggleable__control:checked~label.sk-toggleable__label-arrow:before {content: \"▾\";}#sk-container-id-2 div.sk-estimator input.sk-toggleable__control:checked~label.sk-toggleable__label {background-color: #d4ebff;}#sk-container-id-2 div.sk-label input.sk-toggleable__control:checked~label.sk-toggleable__label {background-color: #d4ebff;}#sk-container-id-2 input.sk-hidden--visually {border: 0;clip: rect(1px 1px 1px 1px);clip: rect(1px, 1px, 1px, 1px);height: 1px;margin: -1px;overflow: hidden;padding: 0;position: absolute;width: 1px;}#sk-container-id-2 div.sk-estimator {font-family: monospace;background-color: #f0f8ff;border: 1px dotted black;border-radius: 0.25em;box-sizing: border-box;margin-bottom: 0.5em;}#sk-container-id-2 div.sk-estimator:hover {background-color: #d4ebff;}#sk-container-id-2 div.sk-parallel-item::after {content: \"\";width: 100%;border-bottom: 1px solid gray;flex-grow: 1;}#sk-container-id-2 div.sk-label:hover label.sk-toggleable__label {background-color: #d4ebff;}#sk-container-id-2 div.sk-serial::before {content: \"\";position: absolute;border-left: 1px solid gray;box-sizing: border-box;top: 0;bottom: 0;left: 50%;z-index: 0;}#sk-container-id-2 div.sk-serial {display: flex;flex-direction: column;align-items: center;background-color: white;padding-right: 0.2em;padding-left: 0.2em;position: relative;}#sk-container-id-2 div.sk-item {position: relative;z-index: 1;}#sk-container-id-2 div.sk-parallel {display: flex;align-items: stretch;justify-content: center;background-color: white;position: relative;}#sk-container-id-2 div.sk-item::before, #sk-container-id-2 div.sk-parallel-item::before {content: \"\";position: absolute;border-left: 1px solid gray;box-sizing: border-box;top: 0;bottom: 0;left: 50%;z-index: -1;}#sk-container-id-2 div.sk-parallel-item {display: flex;flex-direction: column;z-index: 1;position: relative;background-color: white;}#sk-container-id-2 div.sk-parallel-item:first-child::after {align-self: flex-end;width: 50%;}#sk-container-id-2 div.sk-parallel-item:last-child::after {align-self: flex-start;width: 50%;}#sk-container-id-2 div.sk-parallel-item:only-child::after {width: 0;}#sk-container-id-2 div.sk-dashed-wrapped {border: 1px dashed gray;margin: 0 0.4em 0.5em 0.4em;box-sizing: border-box;padding-bottom: 0.4em;background-color: white;}#sk-container-id-2 div.sk-label label {font-family: monospace;font-weight: bold;display: inline-block;line-height: 1.2em;}#sk-container-id-2 div.sk-label-container {text-align: center;}#sk-container-id-2 div.sk-container {/* jupyter's `normalize.less` sets `[hidden] { display: none; }` but bootstrap.min.css set `[hidden] { display: none !important; }` so we also need the `!important` here to be able to override the default hidden behavior on the sphinx rendered scikit-learn.org. See: https://github.com/scikit-learn/scikit-learn/issues/21755 */display: inline-block !important;position: relative;}#sk-container-id-2 div.sk-text-repr-fallback {display: none;}</style><div id=\"sk-container-id-2\" class=\"sk-top-container\"><div class=\"sk-text-repr-fallback\"><pre>KBinsDiscretizer(encode=&#x27;ordinal&#x27;, n_bins=8, strategy=&#x27;uniform&#x27;)</pre><b>In a Jupyter environment, please rerun this cell to show the HTML representation or trust the notebook. <br />On GitHub, the HTML representation is unable to render, please try loading this page with nbviewer.org.</b></div><div class=\"sk-container\" hidden><div class=\"sk-item\"><div class=\"sk-estimator sk-toggleable\"><input class=\"sk-toggleable__control sk-hidden--visually\" id=\"sk-estimator-id-2\" type=\"checkbox\" checked><label for=\"sk-estimator-id-2\" class=\"sk-toggleable__label sk-toggleable__label-arrow\">KBinsDiscretizer</label><div class=\"sk-toggleable__content\"><pre>KBinsDiscretizer(encode=&#x27;ordinal&#x27;, n_bins=8, strategy=&#x27;uniform&#x27;)</pre></div></div></div></div></div>"
      ],
      "text/plain": [
       "KBinsDiscretizer(encode='ordinal', n_bins=8, strategy='uniform')"
      ]
     },
     "execution_count": 28,
     "metadata": {},
     "output_type": "execute_result"
    }
   ],
   "source": [
    "## Yêu cầu 14:\n",
    "## VIẾT CODE Ở ĐÂY:\n",
    "disc = KBinsDiscretizer(n_bins=8, encode='ordinal', strategy='uniform')\n",
    "\n",
    "disc.fit(X_train[['age', 'fare']])"
   ]
  },
  {
   "cell_type": "markdown",
   "metadata": {
    "id": "ehzlZjWNmNKK"
   },
   "source": [
    "<details><summary> Gợi ý </summary>\n",
    "\n",
    "[KBinsDiscretizer()](https://scikit-learn.org/stable/modules/generated/sklearn.preprocessing.KBinsDiscretizer.html)\n",
    "\n",
    "</details>"
   ]
  },
  {
   "cell_type": "code",
   "execution_count": 29,
   "metadata": {
    "id": "lCMFAegPgnbt",
    "outputId": "20070898-c716-42b4-ee8e-bed70dadfb41"
   },
   "outputs": [
    {
     "data": {
      "text/plain": [
       "array([array([ 0.1667   ,  9.3958625, 18.625025 , 27.8541875, 37.08335  ,\n",
       "              46.3125125, 55.541675 , 64.7708375, 74.       ])           ,\n",
       "       array([  0.     ,  64.04115, 128.0823 , 192.12345, 256.1646 , 320.20575,\n",
       "              384.2469 , 448.28805, 512.3292 ])                                ],\n",
       "      dtype=object)"
      ]
     },
     "execution_count": 29,
     "metadata": {},
     "output_type": "execute_result"
    }
   ],
   "source": [
    "disc.bin_edges_"
   ]
  },
  {
   "cell_type": "code",
   "execution_count": 30,
   "metadata": {
    "id": "Zs8hgleGgnbt",
    "outputId": "0febf429-d419-424f-a57f-998d8287b65e"
   },
   "outputs": [
    {
     "data": {
      "text/html": [
       "<div>\n",
       "<style scoped>\n",
       "    .dataframe tbody tr th:only-of-type {\n",
       "        vertical-align: middle;\n",
       "    }\n",
       "\n",
       "    .dataframe tbody tr th {\n",
       "        vertical-align: top;\n",
       "    }\n",
       "\n",
       "    .dataframe thead th {\n",
       "        text-align: right;\n",
       "    }\n",
       "</style>\n",
       "<table border=\"1\" class=\"dataframe\">\n",
       "  <thead>\n",
       "    <tr style=\"text-align: right;\">\n",
       "      <th></th>\n",
       "      <th>age</th>\n",
       "      <th>fare</th>\n",
       "    </tr>\n",
       "  </thead>\n",
       "  <tbody>\n",
       "    <tr>\n",
       "      <th>0</th>\n",
       "      <td>1.0</td>\n",
       "      <td>0.0</td>\n",
       "    </tr>\n",
       "    <tr>\n",
       "      <th>1</th>\n",
       "      <td>0.0</td>\n",
       "      <td>0.0</td>\n",
       "    </tr>\n",
       "    <tr>\n",
       "      <th>2</th>\n",
       "      <td>3.0</td>\n",
       "      <td>0.0</td>\n",
       "    </tr>\n",
       "    <tr>\n",
       "      <th>3</th>\n",
       "      <td>2.0</td>\n",
       "      <td>0.0</td>\n",
       "    </tr>\n",
       "    <tr>\n",
       "      <th>4</th>\n",
       "      <td>2.0</td>\n",
       "      <td>0.0</td>\n",
       "    </tr>\n",
       "  </tbody>\n",
       "</table>\n",
       "</div>"
      ],
      "text/plain": [
       "   age  fare\n",
       "0  1.0   0.0\n",
       "1  0.0   0.0\n",
       "2  3.0   0.0\n",
       "3  2.0   0.0\n",
       "4  2.0   0.0"
      ]
     },
     "execution_count": 30,
     "metadata": {},
     "output_type": "execute_result"
    }
   ],
   "source": [
    "train_t = disc.transform(X_train[['age', 'fare']])\n",
    "\n",
    "train_t = pd.DataFrame(train_t, columns = ['age', 'fare'])\n",
    "\n",
    "train_t.head()"
   ]
  },
  {
   "cell_type": "code",
   "execution_count": 31,
   "metadata": {
    "id": "Fz_B-zeNgnbt"
   },
   "outputs": [],
   "source": [
    "test_t = disc.transform(X_test[['age', 'fare']])\n",
    "\n",
    "test_t = pd.DataFrame(test_t, columns = ['age', 'fare'])"
   ]
  },
  {
   "cell_type": "code",
   "execution_count": 32,
   "metadata": {
    "id": "AcOv6Ppvgnbt",
    "outputId": "fa262de9-5d3a-452e-9944-ba98a454aaf7"
   },
   "outputs": [
    {
     "data": {
      "text/plain": [
       "Text(0, 0.5, 'Number of observations per bin')"
      ]
     },
     "execution_count": 32,
     "metadata": {},
     "output_type": "execute_result"
    },
    {
     "data": {
      "image/png": "[encoded data removed]",
      "text/plain": [
       "<Figure size 640x480 with 1 Axes>"
      ]
     },
     "metadata": {},
     "output_type": "display_data"
    }
   ],
   "source": [
    "t1 = train_t.groupby(['age'])['age'].count() / len(train_t)\n",
    "t2 = test_t.groupby(['age'])['age'].count() / len(test_t)\n",
    "\n",
    "tmp = pd.concat([t1, t2], axis=1)\n",
    "tmp.columns = ['train', 'test']\n",
    "tmp.plot.bar()\n",
    "plt.xticks(rotation=0)\n",
    "plt.ylabel('Number of observations per bin')"
   ]
  },
  {
   "cell_type": "code",
   "execution_count": 33,
   "metadata": {
    "id": "g4rRMK1egnbt",
    "outputId": "73e615bf-08cd-4385-a724-5c54bd485006"
   },
   "outputs": [
    {
     "data": {
      "text/plain": [
       "Text(0, 0.5, 'Number of observations per bin')"
      ]
     },
     "execution_count": 33,
     "metadata": {},
     "output_type": "execute_result"
    },
    {
     "data": {
      "image/png": "[encoded data removed]",
      "text/plain": [
       "<Figure size 640x480 with 1 Axes>"
      ]
     },
     "metadata": {},
     "output_type": "display_data"
    }
   ],
   "source": [
    "t1 = train_t.groupby(['fare'])['fare'].count() / len(train_t)\n",
    "t2 = test_t.groupby(['fare'])['fare'].count() / len(test_t)\n",
    "\n",
    "tmp = pd.concat([t1, t2], axis=1)\n",
    "tmp.columns = ['train', 'test']\n",
    "tmp.plot.bar()\n",
    "plt.xticks(rotation=0)\n",
    "plt.ylabel('Number of observations per bin')"
   ]
  },
  {
   "cell_type": "markdown",
   "metadata": {
    "id": "zHWJcDd1hLI1"
   },
   "source": [
    "## Equal frequency discretisation (Rời rạc hóa sử dụng tần số bằng nhau)\n",
    "\n",
    "Rời rạc hóa sử dụng tần số bằng nhau chia phạm vi các giá trị có thể có của biến thành N bin, trong đó mỗi bin chứa cùng một lượng quan sát. Điều này đặc biệt hữu ích với các biến bị lệch vì nó trải đều các quan sát trên các bin khác nhau. Chúng ta tìm các ranh giới của khoảng bằng cách xác định quantile.\n",
    "\n",
    "Rời rạc hóa sử dụng tần số bằng nhau dùng quantile gồm việc chia biến liên tục thành N quantile; trong đó, N được người dùng xác định.\n",
    "\n",
    "Rời rạc hóa sử dụng tần số bằng nhau rất dễ thực hiện: bằng cách trải đều giá trị của các quan sát; nó giúp tăng chất lượng của thuật toán. Việc phân loại tùy ý này cũng có thể làm gián đoạn mối quan hệ với mục tiêu.\n",
    "\n",
    "## Trong bản mô phỏng này\n",
    "\n",
    "Chúng ta sẽ học cách thực hiện rời rạc hóa sử dụng tần số bằng nhau, dùng tập dữ liệu Titanic với\n",
    "\n",
    "- pandas và NumPy\n",
    "- Feature-engine\n",
    "- Scikit-learn"
   ]
  },
  {
   "cell_type": "code",
   "execution_count": 34,
   "metadata": {
    "id": "vtyIj5Vdgnbu"
   },
   "outputs": [],
   "source": [
    "import pandas as pd\n",
    "import numpy as np\n",
    "\n",
    "import matplotlib.pyplot as plt\n",
    "\n",
    "from sklearn.model_selection import train_test_split\n",
    "\n",
    "from sklearn.preprocessing import KBinsDiscretizer\n",
    "\n",
    "from feature_engine.discretisation import EqualFrequencyDiscretiser"
   ]
  },
  {
   "cell_type": "code",
   "execution_count": 35,
   "metadata": {
    "id": "NC_zg4UehX4q"
   },
   "outputs": [
    {
     "data": {
      "text/html": [
       "<div>\n",
       "<style scoped>\n",
       "    .dataframe tbody tr th:only-of-type {\n",
       "        vertical-align: middle;\n",
       "    }\n",
       "\n",
       "    .dataframe tbody tr th {\n",
       "        vertical-align: top;\n",
       "    }\n",
       "\n",
       "    .dataframe thead th {\n",
       "        text-align: right;\n",
       "    }\n",
       "</style>\n",
       "<table border=\"1\" class=\"dataframe\">\n",
       "  <thead>\n",
       "    <tr style=\"text-align: right;\">\n",
       "      <th></th>\n",
       "      <th>survived</th>\n",
       "      <th>age</th>\n",
       "      <th>fare</th>\n",
       "    </tr>\n",
       "  </thead>\n",
       "  <tbody>\n",
       "    <tr>\n",
       "      <th>0</th>\n",
       "      <td>1</td>\n",
       "      <td>29.0000</td>\n",
       "      <td>211.3375</td>\n",
       "    </tr>\n",
       "    <tr>\n",
       "      <th>1</th>\n",
       "      <td>1</td>\n",
       "      <td>0.9167</td>\n",
       "      <td>151.5500</td>\n",
       "    </tr>\n",
       "    <tr>\n",
       "      <th>2</th>\n",
       "      <td>0</td>\n",
       "      <td>2.0000</td>\n",
       "      <td>151.5500</td>\n",
       "    </tr>\n",
       "    <tr>\n",
       "      <th>3</th>\n",
       "      <td>0</td>\n",
       "      <td>30.0000</td>\n",
       "      <td>151.5500</td>\n",
       "    </tr>\n",
       "    <tr>\n",
       "      <th>4</th>\n",
       "      <td>0</td>\n",
       "      <td>25.0000</td>\n",
       "      <td>151.5500</td>\n",
       "    </tr>\n",
       "  </tbody>\n",
       "</table>\n",
       "</div>"
      ],
      "text/plain": [
       "   survived      age      fare\n",
       "0         1  29.0000  211.3375\n",
       "1         1   0.9167  151.5500\n",
       "2         0   2.0000  151.5500\n",
       "3         0  30.0000  151.5500\n",
       "4         0  25.0000  151.5500"
      ]
     },
     "execution_count": 35,
     "metadata": {},
     "output_type": "execute_result"
    }
   ],
   "source": [
    "# load các biến dạng số của tập dữ liệu Titanic \n",
    "\n",
    "data = pd.read_csv('titanic.csv',\n",
    "                   usecols=['age', 'fare', 'survived'])\n",
    "\n",
    "data.head()"
   ]
  },
  {
   "cell_type": "code",
   "execution_count": 36,
   "metadata": {
    "id": "P1EzvcEVhX7Z"
   },
   "outputs": [
    {
     "data": {
      "text/plain": [
       "((916, 2), (393, 2))"
      ]
     },
     "execution_count": 36,
     "metadata": {},
     "output_type": "execute_result"
    }
   ],
   "source": [
    "# Hãy chia thành tập huấn luyện và tập kiểm tra\n",
    "## Yêu cầu 15:\n",
    "## VIẾT CODE Ở ĐÂY:\n",
    "X_train, X_test, y_train, y_test = train_test_split(\n",
    "    data[['age', 'fare']],\n",
    "    data['survived'],\n",
    "    test_size=0.3,\n",
    "    random_state=0)\n",
    "\n",
    "X_train.shape, X_test.shape"
   ]
  },
  {
   "cell_type": "markdown",
   "metadata": {
    "id": "zpjoDgbfnYqh"
   },
   "source": [
    "<details><summary> Gợi ý </summary>\n",
    "\n",
    "[train_test_split()](https://scikit-learn.org/stable/modules/generated/sklearn.model_selection.train_test_split.html)\n",
    "\n",
    "</details>"
   ]
  },
  {
   "cell_type": "markdown",
   "metadata": {
    "id": "9o5n99XMhd6D"
   },
   "source": [
    "Các biến age và fare chứa dữ liệu bị khuyết, chúng ta sẽ điền vào bằng cách trích xuất một mẫu ngẫu nhiên của biến."
   ]
  },
  {
   "cell_type": "code",
   "execution_count": 37,
   "metadata": {
    "id": "4ib11NcNhX9n"
   },
   "outputs": [],
   "source": [
    "def impute_na(data, variable):\n",
    "    # hàm để điền NA với mẫu ngẫu nhiên\n",
    "\n",
    "    df = data.copy()\n",
    "\n",
    "    # lấy mẫu ngẫu nhiên\n",
    "    df[variable+'_random'] = df[variable]\n",
    "\n",
    "    # trích xuất mẫu ngẫu nhiên để điền na\n",
    "    random_sample = X_train[variable].dropna().sample(\n",
    "        df[variable].isnull().sum(), random_state=0)\n",
    "\n",
    "    # pandas cần index tương tự để hợp nhất các tập dữ liệu\n",
    "    random_sample.index = df[df[variable].isnull()].index\n",
    "    df.loc[df[variable].isnull(), variable+'_random'] = random_sample\n",
    "\n",
    "    return df[variable+'_random']"
   ]
  },
  {
   "cell_type": "code",
   "execution_count": 38,
   "metadata": {
    "id": "xsfvyI29hg9L"
   },
   "outputs": [],
   "source": [
    "# thay NA ở cả tập huấn luyện và tập kiểm tra\n",
    "## Yêu cầu 16:\n",
    "## VIẾT CODE Ở ĐÂY:\n",
    "X_train['age'] = impute_na(data, 'age')\n",
    "X_test['age'] = impute_na(data, 'age')\n",
    "\n",
    "X_train['fare'] = impute_na(data, 'fare')\n",
    "X_test['fare'] = impute_na(data,'fare')"
   ]
  },
  {
   "cell_type": "markdown",
   "metadata": {
    "id": "IhRozXfdnG33"
   },
   "source": [
    "<details><summary> Gợi ý </summary>\n",
    "\n",
    "Sử dụng hàm ```impute_na()``` ở trên\n",
    "\n",
    "</details>"
   ]
  },
  {
   "cell_type": "code",
   "execution_count": 39,
   "metadata": {
    "id": "xSv75hWFhg_J"
   },
   "outputs": [
    {
     "data": {
      "image/png": "[encoded data removed]",
      "text/plain": [
       "<Figure size 800x400 with 2 Axes>"
      ]
     },
     "metadata": {},
     "output_type": "display_data"
    }
   ],
   "source": [
    "# hãy khám phá phân phối của age\n",
    "\n",
    "X_train[['age', 'fare']].hist(bins=30, figsize=(8,4))\n",
    "plt.show()"
   ]
  },
  {
   "cell_type": "markdown",
   "metadata": {
    "id": "YeZjA-lshk1D"
   },
   "source": [
    "### Rời rạc hóa sử dụng tần số bằng nhau với pandas và NumPy\n",
    "\n",
    "Giới hạn khoảng là giới hạn quantile. Chúng ta có thể tìm với pandas qcut."
   ]
  },
  {
   "cell_type": "code",
   "execution_count": 40,
   "metadata": {
    "id": "_2Rxadx4hhBk"
   },
   "outputs": [
    {
     "data": {
      "text/html": [
       "<div>\n",
       "<style scoped>\n",
       "    .dataframe tbody tr th:only-of-type {\n",
       "        vertical-align: middle;\n",
       "    }\n",
       "\n",
       "    .dataframe tbody tr th {\n",
       "        vertical-align: top;\n",
       "    }\n",
       "\n",
       "    .dataframe thead th {\n",
       "        text-align: right;\n",
       "    }\n",
       "</style>\n",
       "<table border=\"1\" class=\"dataframe\">\n",
       "  <thead>\n",
       "    <tr style=\"text-align: right;\">\n",
       "      <th></th>\n",
       "      <th>age</th>\n",
       "      <th>age</th>\n",
       "    </tr>\n",
       "  </thead>\n",
       "  <tbody>\n",
       "    <tr>\n",
       "      <th>501</th>\n",
       "      <td>(0.166, 16.0]</td>\n",
       "      <td>13.0</td>\n",
       "    </tr>\n",
       "    <tr>\n",
       "      <th>588</th>\n",
       "      <td>(0.166, 16.0]</td>\n",
       "      <td>4.0</td>\n",
       "    </tr>\n",
       "    <tr>\n",
       "      <th>402</th>\n",
       "      <td>(28.0, 31.0]</td>\n",
       "      <td>30.0</td>\n",
       "    </tr>\n",
       "    <tr>\n",
       "      <th>1193</th>\n",
       "      <td>(20.0, 22.25]</td>\n",
       "      <td>21.0</td>\n",
       "    </tr>\n",
       "    <tr>\n",
       "      <th>686</th>\n",
       "      <td>(20.0, 22.25]</td>\n",
       "      <td>22.0</td>\n",
       "    </tr>\n",
       "    <tr>\n",
       "      <th>971</th>\n",
       "      <td>(0.166, 16.0]</td>\n",
       "      <td>16.0</td>\n",
       "    </tr>\n",
       "    <tr>\n",
       "      <th>117</th>\n",
       "      <td>(28.0, 31.0]</td>\n",
       "      <td>30.0</td>\n",
       "    </tr>\n",
       "    <tr>\n",
       "      <th>540</th>\n",
       "      <td>(0.166, 16.0]</td>\n",
       "      <td>2.0</td>\n",
       "    </tr>\n",
       "    <tr>\n",
       "      <th>294</th>\n",
       "      <td>(42.0, 50.0]</td>\n",
       "      <td>49.0</td>\n",
       "    </tr>\n",
       "    <tr>\n",
       "      <th>261</th>\n",
       "      <td>(31.0, 36.0]</td>\n",
       "      <td>35.0</td>\n",
       "    </tr>\n",
       "  </tbody>\n",
       "</table>\n",
       "</div>"
      ],
      "text/plain": [
       "                age   age\n",
       "501   (0.166, 16.0]  13.0\n",
       "588   (0.166, 16.0]   4.0\n",
       "402    (28.0, 31.0]  30.0\n",
       "1193  (20.0, 22.25]  21.0\n",
       "686   (20.0, 22.25]  22.0\n",
       "971   (0.166, 16.0]  16.0\n",
       "117    (28.0, 31.0]  30.0\n",
       "540   (0.166, 16.0]   2.0\n",
       "294    (42.0, 50.0]  49.0\n",
       "261    (31.0, 36.0]  35.0"
      ]
     },
     "execution_count": 40,
     "metadata": {},
     "output_type": "execute_result"
    }
   ],
   "source": [
    "# hãy sử dụng pandas qcut (quantile cut) và chỉ ra\n",
    "# chúng ta muốn 10 bin.\n",
    "\n",
    "# retbins = True thể hiện chúng ta muốn nắm bắt các giới hạn\n",
    "# của từng khoảng (để chia tập kiểm tra)\n",
    "\n",
    "## Yêu cầu 17:\n",
    "## VIẾT CODE Ở ĐÂY:\n",
    "Age_disccretised, intervals = pd.qcut(\n",
    "    X_train['age'], 10, labels=None, retbins=True, precision=3, duplicates='raise')\n",
    "\n",
    "pd.concat([Age_disccretised, X_train['age']], axis=1).head(10)"
   ]
  },
  {
   "cell_type": "markdown",
   "metadata": {
    "id": "IgSfqli6oOx2"
   },
   "source": [
    "<details><summary> Gợi ý </summary>\n",
    "\n",
    "[qcut()](https://pandas.pydata.org/docs/reference/api/pandas.qcut.html)\n",
    "\n",
    "</details>"
   ]
  },
  {
   "cell_type": "markdown",
   "metadata": {
    "id": "CHe8FID4hqI_"
   },
   "source": [
    "Chúng ta thấy cách đặt mỗi quan sát Age trong một khoảng bằng cách rời rạc hóa sử dụng quantile qua kết quả ở trên. Ví dụ: age=30 được xếp vào khoảng 28-31, trong khi age=49 được xếp vào khoảng 42-50.\n",
    "\n",
    "Lưu ý khoảng cách của các khoảng (interval) khác nhau như thế nào.\n",
    "\n",
    "Chúng ta có thể hình dung các điểm cắt khoảng bên dưới: "
   ]
  },
  {
   "cell_type": "code",
   "execution_count": 41,
   "metadata": {
    "id": "HpMvs2nMhhDu"
   },
   "outputs": [
    {
     "data": {
      "text/plain": [
       "array([ 0.1667, 16.    , 20.    , 22.25  , 25.    , 28.    , 31.    ,\n",
       "       36.    , 42.    , 50.    , 74.    ])"
      ]
     },
     "execution_count": 41,
     "metadata": {},
     "output_type": "execute_result"
    }
   ],
   "source": [
    "intervals"
   ]
  },
  {
   "cell_type": "markdown",
   "metadata": {
    "id": "rFaOZg0_hvEA"
   },
   "source": [
    "Và vì chúng ta tạo ra các bin bằng phương thức quantile cut nên sẽ có số lượng quan sát gần như bằng nhau ở mỗi bin. Xem bên dưới."
   ]
  },
  {
   "cell_type": "code",
   "execution_count": 42,
   "metadata": {
    "id": "e45pxP10hhFx"
   },
   "outputs": [
    {
     "data": {
      "text/plain": [
       "(31.0, 36.0]     106\n",
       "(0.166, 16.0]    103\n",
       "(25.0, 28.0]      95\n",
       "(22.25, 25.0]     94\n",
       "(42.0, 50.0]      92\n",
       "(16.0, 20.0]      91\n",
       "(28.0, 31.0]      91\n",
       "(36.0, 42.0]      84\n",
       "(20.0, 22.25]     81\n",
       "(50.0, 74.0]      79\n",
       "Name: age, dtype: int64"
      ]
     },
     "execution_count": 42,
     "metadata": {},
     "output_type": "execute_result"
    }
   ],
   "source": [
    "# số hành khách gần như tương tự ở mỗi khoảng\n",
    "\n",
    "Age_disccretised.value_counts()"
   ]
  },
  {
   "cell_type": "code",
   "execution_count": 43,
   "metadata": {
    "id": "yrUqdPPHhxdf"
   },
   "outputs": [
    {
     "data": {
      "text/plain": [
       "['Q1', 'Q2', 'Q3', 'Q4', 'Q5', 'Q6', 'Q7', 'Q8', 'Q9', 'Q10']"
      ]
     },
     "execution_count": 43,
     "metadata": {},
     "output_type": "execute_result"
    }
   ],
   "source": [
    "# thay vì có các ranh giới khoảng, chúng ta cũng có thể thêm nhãn vào bin như sau:\n",
    "\n",
    "labels = ['Q'+str(i) for i in range(1,11)]\n",
    "labels"
   ]
  },
  {
   "cell_type": "code",
   "execution_count": 44,
   "metadata": {
    "id": "8-um1PQYhyrq"
   },
   "outputs": [
    {
     "data": {
      "text/plain": [
       "501     Q1\n",
       "588     Q1\n",
       "402     Q6\n",
       "1193    Q3\n",
       "686     Q3\n",
       "Name: age, dtype: category\n",
       "Categories (10, object): ['Q1' < 'Q2' < 'Q3' < 'Q4' ... 'Q7' < 'Q8' < 'Q9' < 'Q10']"
      ]
     },
     "execution_count": 44,
     "metadata": {},
     "output_type": "execute_result"
    }
   ],
   "source": [
    "Age_disccretised, intervals = pd.qcut(X_train['age'], 10, labels=labels,\n",
    "                                      retbins=True,\n",
    "                                      precision=3, duplicates='raise')\n",
    "\n",
    "Age_disccretised.head()"
   ]
  },
  {
   "cell_type": "code",
   "execution_count": 45,
   "metadata": {
    "id": "4Vq28wgxh0EB"
   },
   "outputs": [
    {
     "data": {
      "text/plain": [
       "array([ -inf, 16.  , 20.  , 22.25, 25.  , 28.  , 31.  , 36.  , 42.  ,\n",
       "       50.  ,   inf])"
      ]
     },
     "execution_count": 45,
     "metadata": {},
     "output_type": "execute_result"
    }
   ],
   "source": [
    "# áp dụng các khoảng vào tập kiểm tra, chúng ta cần mở rộng\n",
    "# giới hạn của các bin ngoài thành -inf và +inf để nếu\n",
    "# trong tập kiểm tra có các giá trị nhỏ hơn hoặc lớn hơn\n",
    "# giá trị min/max trong tập huấn luyện, chúng có thể bị\n",
    "# dồn vào các khoảng ngoài.\n",
    "# Nếu không, chúng sẽ bị thay bằng NaN.\n",
    "\n",
    "# Thêm vào trước/Nối các phần vô hạn để điều chỉnh outlier\n",
    "intervals[0] = float(\"-inf\")\n",
    "intervals[len(intervals) - 1] = float(\"inf\")\n",
    "\n",
    "intervals"
   ]
  },
  {
   "cell_type": "code",
   "execution_count": 46,
   "metadata": {
    "id": "LMOGG55qh16l"
   },
   "outputs": [
    {
     "data": {
      "text/html": [
       "<div>\n",
       "<style scoped>\n",
       "    .dataframe tbody tr th:only-of-type {\n",
       "        vertical-align: middle;\n",
       "    }\n",
       "\n",
       "    .dataframe tbody tr th {\n",
       "        vertical-align: top;\n",
       "    }\n",
       "\n",
       "    .dataframe thead th {\n",
       "        text-align: right;\n",
       "    }\n",
       "</style>\n",
       "<table border=\"1\" class=\"dataframe\">\n",
       "  <thead>\n",
       "    <tr style=\"text-align: right;\">\n",
       "      <th></th>\n",
       "      <th>age</th>\n",
       "      <th>fare</th>\n",
       "      <th>Age_disc_label</th>\n",
       "      <th>Age_disc</th>\n",
       "    </tr>\n",
       "  </thead>\n",
       "  <tbody>\n",
       "    <tr>\n",
       "      <th>1139</th>\n",
       "      <td>38.0</td>\n",
       "      <td>7.8958</td>\n",
       "      <td>Q8</td>\n",
       "      <td>(36.0, 42.0]</td>\n",
       "    </tr>\n",
       "    <tr>\n",
       "      <th>533</th>\n",
       "      <td>21.0</td>\n",
       "      <td>21.0000</td>\n",
       "      <td>Q3</td>\n",
       "      <td>(20.0, 22.25]</td>\n",
       "    </tr>\n",
       "    <tr>\n",
       "      <th>459</th>\n",
       "      <td>42.0</td>\n",
       "      <td>27.0000</td>\n",
       "      <td>Q8</td>\n",
       "      <td>(36.0, 42.0]</td>\n",
       "    </tr>\n",
       "    <tr>\n",
       "      <th>1150</th>\n",
       "      <td>34.0</td>\n",
       "      <td>14.5000</td>\n",
       "      <td>Q7</td>\n",
       "      <td>(31.0, 36.0]</td>\n",
       "    </tr>\n",
       "    <tr>\n",
       "      <th>393</th>\n",
       "      <td>25.0</td>\n",
       "      <td>31.5000</td>\n",
       "      <td>Q4</td>\n",
       "      <td>(22.25, 25.0]</td>\n",
       "    </tr>\n",
       "    <tr>\n",
       "      <th>1189</th>\n",
       "      <td>4.0</td>\n",
       "      <td>16.7000</td>\n",
       "      <td>Q1</td>\n",
       "      <td>(-inf, 16.0]</td>\n",
       "    </tr>\n",
       "    <tr>\n",
       "      <th>5</th>\n",
       "      <td>48.0</td>\n",
       "      <td>26.5500</td>\n",
       "      <td>Q9</td>\n",
       "      <td>(42.0, 50.0]</td>\n",
       "    </tr>\n",
       "    <tr>\n",
       "      <th>231</th>\n",
       "      <td>52.0</td>\n",
       "      <td>30.5000</td>\n",
       "      <td>Q10</td>\n",
       "      <td>(50.0, inf]</td>\n",
       "    </tr>\n",
       "    <tr>\n",
       "      <th>330</th>\n",
       "      <td>57.0</td>\n",
       "      <td>13.0000</td>\n",
       "      <td>Q10</td>\n",
       "      <td>(50.0, inf]</td>\n",
       "    </tr>\n",
       "    <tr>\n",
       "      <th>887</th>\n",
       "      <td>32.0</td>\n",
       "      <td>8.1125</td>\n",
       "      <td>Q7</td>\n",
       "      <td>(31.0, 36.0]</td>\n",
       "    </tr>\n",
       "  </tbody>\n",
       "</table>\n",
       "</div>"
      ],
      "text/plain": [
       "       age     fare Age_disc_label       Age_disc\n",
       "1139  38.0   7.8958             Q8   (36.0, 42.0]\n",
       "533   21.0  21.0000             Q3  (20.0, 22.25]\n",
       "459   42.0  27.0000             Q8   (36.0, 42.0]\n",
       "1150  34.0  14.5000             Q7   (31.0, 36.0]\n",
       "393   25.0  31.5000             Q4  (22.25, 25.0]\n",
       "1189   4.0  16.7000             Q1   (-inf, 16.0]\n",
       "5     48.0  26.5500             Q9   (42.0, 50.0]\n",
       "231   52.0  30.5000            Q10    (50.0, inf]\n",
       "330   57.0  13.0000            Q10    (50.0, inf]\n",
       "887   32.0   8.1125             Q7   (31.0, 36.0]"
      ]
     },
     "execution_count": 46,
     "metadata": {},
     "output_type": "execute_result"
    }
   ],
   "source": [
    "# biến đổi tập kiểm tra:\n",
    "# chúng ta sử dụng phương thức pandas cut (thay vì qcut) và\n",
    "# truyền vào biên quantile đã tính trong tập huấn luyện\n",
    "\n",
    "X_test['Age_disc_label'] = pd.cut(x = X_test['age'], bins=intervals, labels=labels)\n",
    "X_test['Age_disc'] = pd.cut(x = X_test['age'], bins=intervals)\n",
    "\n",
    "X_test.head(10)"
   ]
  },
  {
   "cell_type": "code",
   "execution_count": 47,
   "metadata": {
    "id": "MZcAS4l5h3ek"
   },
   "outputs": [
    {
     "data": {
      "text/plain": [
       "0"
      ]
     },
     "execution_count": 47,
     "metadata": {},
     "output_type": "execute_result"
    }
   ],
   "source": [
    "X_test['Age_disc_label'].isnull().sum()"
   ]
  },
  {
   "cell_type": "code",
   "execution_count": 48,
   "metadata": {
    "id": "ZMm4hS2fh33J"
   },
   "outputs": [
    {
     "data": {
      "text/plain": [
       "<Axes: xlabel='Age_disc'>"
      ]
     },
     "execution_count": 48,
     "metadata": {},
     "output_type": "execute_result"
    },
    {
     "data": {
      "image/png": "[encoded data removed]",
      "text/plain": [
       "<Figure size 640x480 with 1 Axes>"
      ]
     },
     "metadata": {},
     "output_type": "display_data"
    }
   ],
   "source": [
    "# kiểm tra xem chúng ta đã có tần số bằng nhau chưa (số quan sát như nhau ở mỗi bin)\n",
    "X_test.groupby('Age_disc')['age'].count().plot.bar()"
   ]
  },
  {
   "cell_type": "markdown",
   "metadata": {
    "id": "xgMsMyvrh6tc"
   },
   "source": [
    "Có thể thấy rằng các khoảng trên cùng có ít quan sát hơn. Điều này có thể xảy ra với các phân phối lệch nếu chúng ta cố gắng chia trong một số lượng lớn các khoảng. Để làm cho chệnh lệch giá trị đồng nhất hơn, chúng ta cần rời rạc hóa trong khoảng ngắn hơn.\n",
    "\n",
    "### Rời rạc hóa sử dụng tần số bằng nhau với Feature-Engine"
   ]
  },
  {
   "cell_type": "code",
   "execution_count": 49,
   "metadata": {
    "id": "izyf-rqwh7cE"
   },
   "outputs": [
    {
     "data": {
      "text/plain": [
       "((916, 2), (393, 2))"
      ]
     },
     "execution_count": 49,
     "metadata": {},
     "output_type": "execute_result"
    }
   ],
   "source": [
    "# Hãy chia thành tập huấn luyện và tập kiểm tra\n",
    "## Yêu cầu 18:\n",
    "## VIẾT CODE Ở ĐÂY:\n",
    "X_train, X_test, y_train, y_test = train_test_split(\n",
    "    data[['age', 'fare']],\n",
    "    data['survived'],\n",
    "    test_size=0.3,\n",
    "    random_state=0)\n",
    "\n",
    "X_train.shape, X_test.shape"
   ]
  },
  {
   "cell_type": "markdown",
   "metadata": {
    "id": "7VP8f-tKnaLX"
   },
   "source": [
    "<details><summary> Gợi ý </summary>\n",
    "\n",
    "[train_test_split()](https://scikit-learn.org/stable/modules/generated/sklearn.model_selection.train_test_split.html)\n",
    "\n",
    "</details>"
   ]
  },
  {
   "cell_type": "code",
   "execution_count": 50,
   "metadata": {
    "id": "5Ue6mloCh9Fi"
   },
   "outputs": [],
   "source": [
    "# thay NA ở cả tập huấn luyện và tập kiểm tra\n",
    "## Yêu cầu 19:\n",
    "## VIẾT CODE Ở ĐÂY:\n",
    "X_train['age'] = impute_na(data,'age')\n",
    "X_test['age'] = impute_na(data,'age')\n",
    "\n",
    "X_train['fare'] = impute_na(data,'fare')\n",
    "X_test['fare'] = impute_na(data,'fare')"
   ]
  },
  {
   "cell_type": "markdown",
   "metadata": {
    "id": "Z-piGcWrnJTb"
   },
   "source": [
    "<details><summary> Gợi ý </summary>\n",
    "\n",
    "Sử dụng hàm ```impute_na()``` ở trên\n",
    "\n",
    "</details>"
   ]
  },
  {
   "cell_type": "code",
   "execution_count": 51,
   "metadata": {
    "id": "k2CAr9E-h9H2"
   },
   "outputs": [
    {
     "data": {
      "text/html": [
       "<style>#sk-container-id-3 {color: black;background-color: white;}#sk-container-id-3 pre{padding: 0;}#sk-container-id-3 div.sk-toggleable {background-color: white;}#sk-container-id-3 label.sk-toggleable__label {cursor: pointer;display: block;width: 100%;margin-bottom: 0;padding: 0.3em;box-sizing: border-box;text-align: center;}#sk-container-id-3 label.sk-toggleable__label-arrow:before {content: \"▸\";float: left;margin-right: 0.25em;color: #696969;}#sk-container-id-3 label.sk-toggleable__label-arrow:hover:before {color: black;}#sk-container-id-3 div.sk-estimator:hover label.sk-toggleable__label-arrow:before {color: black;}#sk-container-id-3 div.sk-toggleable__content {max-height: 0;max-width: 0;overflow: hidden;text-align: left;background-color: #f0f8ff;}#sk-container-id-3 div.sk-toggleable__content pre {margin: 0.2em;color: black;border-radius: 0.25em;background-color: #f0f8ff;}#sk-container-id-3 input.sk-toggleable__control:checked~div.sk-toggleable__content {max-height: 200px;max-width: 100%;overflow: auto;}#sk-container-id-3 input.sk-toggleable__control:checked~label.sk-toggleable__label-arrow:before {content: \"▾\";}#sk-container-id-3 div.sk-estimator input.sk-toggleable__control:checked~label.sk-toggleable__label {background-color: #d4ebff;}#sk-container-id-3 div.sk-label input.sk-toggleable__control:checked~label.sk-toggleable__label {background-color: #d4ebff;}#sk-container-id-3 input.sk-hidden--visually {border: 0;clip: rect(1px 1px 1px 1px);clip: rect(1px, 1px, 1px, 1px);height: 1px;margin: -1px;overflow: hidden;padding: 0;position: absolute;width: 1px;}#sk-container-id-3 div.sk-estimator {font-family: monospace;background-color: #f0f8ff;border: 1px dotted black;border-radius: 0.25em;box-sizing: border-box;margin-bottom: 0.5em;}#sk-container-id-3 div.sk-estimator:hover {background-color: #d4ebff;}#sk-container-id-3 div.sk-parallel-item::after {content: \"\";width: 100%;border-bottom: 1px solid gray;flex-grow: 1;}#sk-container-id-3 div.sk-label:hover label.sk-toggleable__label {background-color: #d4ebff;}#sk-container-id-3 div.sk-serial::before {content: \"\";position: absolute;border-left: 1px solid gray;box-sizing: border-box;top: 0;bottom: 0;left: 50%;z-index: 0;}#sk-container-id-3 div.sk-serial {display: flex;flex-direction: column;align-items: center;background-color: white;padding-right: 0.2em;padding-left: 0.2em;position: relative;}#sk-container-id-3 div.sk-item {position: relative;z-index: 1;}#sk-container-id-3 div.sk-parallel {display: flex;align-items: stretch;justify-content: center;background-color: white;position: relative;}#sk-container-id-3 div.sk-item::before, #sk-container-id-3 div.sk-parallel-item::before {content: \"\";position: absolute;border-left: 1px solid gray;box-sizing: border-box;top: 0;bottom: 0;left: 50%;z-index: -1;}#sk-container-id-3 div.sk-parallel-item {display: flex;flex-direction: column;z-index: 1;position: relative;background-color: white;}#sk-container-id-3 div.sk-parallel-item:first-child::after {align-self: flex-end;width: 50%;}#sk-container-id-3 div.sk-parallel-item:last-child::after {align-self: flex-start;width: 50%;}#sk-container-id-3 div.sk-parallel-item:only-child::after {width: 0;}#sk-container-id-3 div.sk-dashed-wrapped {border: 1px dashed gray;margin: 0 0.4em 0.5em 0.4em;box-sizing: border-box;padding-bottom: 0.4em;background-color: white;}#sk-container-id-3 div.sk-label label {font-family: monospace;font-weight: bold;display: inline-block;line-height: 1.2em;}#sk-container-id-3 div.sk-label-container {text-align: center;}#sk-container-id-3 div.sk-container {/* jupyter's `normalize.less` sets `[hidden] { display: none; }` but bootstrap.min.css set `[hidden] { display: none !important; }` so we also need the `!important` here to be able to override the default hidden behavior on the sphinx rendered scikit-learn.org. See: https://github.com/scikit-learn/scikit-learn/issues/21755 */display: inline-block !important;position: relative;}#sk-container-id-3 div.sk-text-repr-fallback {display: none;}</style><div id=\"sk-container-id-3\" class=\"sk-top-container\"><div class=\"sk-text-repr-fallback\"><pre>EqualFrequencyDiscretiser(variables=[&#x27;age&#x27;, &#x27;fare&#x27;])</pre><b>In a Jupyter environment, please rerun this cell to show the HTML representation or trust the notebook. <br />On GitHub, the HTML representation is unable to render, please try loading this page with nbviewer.org.</b></div><div class=\"sk-container\" hidden><div class=\"sk-item\"><div class=\"sk-estimator sk-toggleable\"><input class=\"sk-toggleable__control sk-hidden--visually\" id=\"sk-estimator-id-3\" type=\"checkbox\" checked><label for=\"sk-estimator-id-3\" class=\"sk-toggleable__label sk-toggleable__label-arrow\">EqualFrequencyDiscretiser</label><div class=\"sk-toggleable__content\"><pre>EqualFrequencyDiscretiser(variables=[&#x27;age&#x27;, &#x27;fare&#x27;])</pre></div></div></div></div></div>"
      ],
      "text/plain": [
       "EqualFrequencyDiscretiser(variables=['age', 'fare'])"
      ]
     },
     "execution_count": 51,
     "metadata": {},
     "output_type": "execute_result"
    }
   ],
   "source": [
    "# với feature-engine, chúng ta có thể tự động hóa quá trình cho nhiều biến\n",
    "# trong một dòng code\n",
    "## Yêu cầu 20:\n",
    "## VIẾT CODE Ở ĐÂY:\n",
    "disc = EqualFrequencyDiscretiser(q=10, variables = ['age', 'fare'])\n",
    "\n",
    "disc.fit(X_train)"
   ]
  },
  {
   "cell_type": "markdown",
   "metadata": {
    "id": "kpupkMO5o4U_"
   },
   "source": [
    "<details><summary> Gợi ý </summary>\n",
    "\n",
    "[EqualFrequencyDiscretiser()](https://feature-engine.readthedocs.io/en/0.6.x_a/discretisers/EqualFrequencyDiscretiser.html)\n",
    "\n",
    "</details>"
   ]
  },
  {
   "cell_type": "code",
   "execution_count": 52,
   "metadata": {
    "id": "pDYfxi6yh9Jx"
   },
   "outputs": [
    {
     "data": {
      "text/plain": [
       "{'age': [-inf,\n",
       "  16.0,\n",
       "  20.0,\n",
       "  22.25000000000003,\n",
       "  25.0,\n",
       "  28.0,\n",
       "  31.0,\n",
       "  36.0,\n",
       "  42.0,\n",
       "  50.0,\n",
       "  inf],\n",
       " 'fare': [-inf,\n",
       "  7.55,\n",
       "  7.7958,\n",
       "  8.05,\n",
       "  10.5,\n",
       "  14.4542,\n",
       "  21.075,\n",
       "  26.55,\n",
       "  40.125,\n",
       "  79.025,\n",
       "  inf]}"
      ]
     },
     "execution_count": 52,
     "metadata": {},
     "output_type": "execute_result"
    }
   ],
   "source": [
    "# trong dict binner, chúng ta thấy giới hạn của các khoảng. Lưu ý rằng\n",
    "# các khoảng có khoản cách khác nhau\n",
    "\n",
    "disc.binner_dict_"
   ]
  },
  {
   "cell_type": "code",
   "execution_count": 53,
   "metadata": {
    "id": "QjQCFst0h9MW"
   },
   "outputs": [],
   "source": [
    "# biến đổi train và test\n",
    "\n",
    "train_t = disc.transform(X_train)\n",
    "test_t = disc.transform(X_test)"
   ]
  },
  {
   "cell_type": "code",
   "execution_count": 54,
   "metadata": {
    "id": "7OWUDY-oh9Oh"
   },
   "outputs": [
    {
     "data": {
      "text/html": [
       "<div>\n",
       "<style scoped>\n",
       "    .dataframe tbody tr th:only-of-type {\n",
       "        vertical-align: middle;\n",
       "    }\n",
       "\n",
       "    .dataframe tbody tr th {\n",
       "        vertical-align: top;\n",
       "    }\n",
       "\n",
       "    .dataframe thead th {\n",
       "        text-align: right;\n",
       "    }\n",
       "</style>\n",
       "<table border=\"1\" class=\"dataframe\">\n",
       "  <thead>\n",
       "    <tr style=\"text-align: right;\">\n",
       "      <th></th>\n",
       "      <th>age</th>\n",
       "      <th>fare</th>\n",
       "    </tr>\n",
       "  </thead>\n",
       "  <tbody>\n",
       "    <tr>\n",
       "      <th>501</th>\n",
       "      <td>0</td>\n",
       "      <td>5</td>\n",
       "    </tr>\n",
       "    <tr>\n",
       "      <th>588</th>\n",
       "      <td>0</td>\n",
       "      <td>6</td>\n",
       "    </tr>\n",
       "    <tr>\n",
       "      <th>402</th>\n",
       "      <td>5</td>\n",
       "      <td>4</td>\n",
       "    </tr>\n",
       "    <tr>\n",
       "      <th>1193</th>\n",
       "      <td>2</td>\n",
       "      <td>1</td>\n",
       "    </tr>\n",
       "    <tr>\n",
       "      <th>686</th>\n",
       "      <td>2</td>\n",
       "      <td>1</td>\n",
       "    </tr>\n",
       "  </tbody>\n",
       "</table>\n",
       "</div>"
      ],
      "text/plain": [
       "      age  fare\n",
       "501     0     5\n",
       "588     0     6\n",
       "402     5     4\n",
       "1193    2     1\n",
       "686     2     1"
      ]
     },
     "execution_count": 54,
     "metadata": {},
     "output_type": "execute_result"
    }
   ],
   "source": [
    "train_t.head()"
   ]
  },
  {
   "cell_type": "code",
   "execution_count": 55,
   "metadata": {
    "id": "JmPWu6C4iDCe"
   },
   "outputs": [
    {
     "data": {
      "text/plain": [
       "Text(0, 0.5, 'Number of observations per bin')"
      ]
     },
     "execution_count": 55,
     "metadata": {},
     "output_type": "execute_result"
    },
    {
     "data": {
      "image/png": "[encoded data removed]",
      "text/plain": [
       "<Figure size 640x480 with 1 Axes>"
      ]
     },
     "metadata": {},
     "output_type": "display_data"
    }
   ],
   "source": [
    "# giờ hãy khám phá số quan sát ở mỗi bucket\n",
    "\n",
    "t1 = train_t.groupby(['age'])['age'].count() / len(train_t)\n",
    "t2 = test_t.groupby(['age'])['age'].count() / len(test_t)\n",
    "\n",
    "tmp = pd.concat([t1, t2], axis=1)\n",
    "tmp.columns = ['train', 'test']\n",
    "tmp.plot.bar()\n",
    "plt.xticks(rotation=0)\n",
    "plt.ylabel('Number of observations per bin')"
   ]
  },
  {
   "cell_type": "code",
   "execution_count": 56,
   "metadata": {
    "id": "Ptf6DeNwiFfF"
   },
   "outputs": [
    {
     "data": {
      "text/plain": [
       "Text(0, 0.5, 'Number of observations per bin')"
      ]
     },
     "execution_count": 56,
     "metadata": {},
     "output_type": "execute_result"
    },
    {
     "data": {
      "image/png": "[encoded data removed]",
      "text/plain": [
       "<Figure size 640x480 with 1 Axes>"
      ]
     },
     "metadata": {},
     "output_type": "display_data"
    }
   ],
   "source": [
    "t1 = train_t.groupby(['fare'])['fare'].count() / len(train_t)\n",
    "t2 = test_t.groupby(['fare'])['fare'].count() / len(test_t)\n",
    "\n",
    "tmp = pd.concat([t1, t2], axis=1)\n",
    "tmp.columns = ['train', 'test']\n",
    "tmp.plot.bar()\n",
    "plt.xticks(rotation=0)\n",
    "plt.ylabel('Number of observations per bin')"
   ]
  },
  {
   "cell_type": "markdown",
   "metadata": {
    "id": "GFDwqziZiI6-"
   },
   "source": [
    "Lưu ý rằng rời rạc hóa sử dụng tần số bằng nhau có chệnh lệch giá trị tốt hơn trên các khoảng khác nhau.\n",
    "\n",
    "### Rời rạc hóa sử dụng tần số bằng nhau với Scikit-learn"
   ]
  },
  {
   "cell_type": "code",
   "execution_count": 57,
   "metadata": {
    "id": "Ws07t-VeiJsh"
   },
   "outputs": [
    {
     "data": {
      "text/plain": [
       "((916, 2), (393, 2))"
      ]
     },
     "execution_count": 57,
     "metadata": {},
     "output_type": "execute_result"
    }
   ],
   "source": [
    "# Hãy chia thành tập huấn luyện và tập kiểm tra\n",
    "## Yêu cầu 21:\n",
    "## VIẾT CODE Ở ĐÂY:\n",
    "X_train, X_test, y_train, y_test = train_test_split(\n",
    "    data[['age', 'fare']],\n",
    "    data['survived'],\n",
    "    test_size=0.3,\n",
    "    random_state=0)\n",
    "\n",
    "X_train.shape, X_test.shape"
   ]
  },
  {
   "cell_type": "markdown",
   "metadata": {
    "id": "UTc71SBWnbY5"
   },
   "source": [
    "<details><summary> Gợi ý </summary>\n",
    "\n",
    "[train_test_split()](https://scikit-learn.org/stable/modules/generated/sklearn.model_selection.train_test_split.html)\n",
    "\n",
    "</details>"
   ]
  },
  {
   "cell_type": "code",
   "execution_count": null,
   "metadata": {
    "id": "t9hFVMwqiKzw"
   },
   "outputs": [],
   "source": [
    "# thay NA ở cả tập huấn luyện và tập kiểm tra\n",
    "## Yêu cầu 22:\n",
    "## VIẾT CODE Ở ĐÂY:\n",
    "X_train['age'] = impute_na(data, 'age')\n",
    "X_test['age'] = impute_na(data, 'age')\n",
    "\n",
    "X_train['fare'] = impute_na(data, \n",
    "                           )\n",
    "X_test['fare'] = ..."
   ]
  },
  {
   "cell_type": "markdown",
   "metadata": {
    "id": "Z4R9lublnKUZ"
   },
   "source": [
    "<details><summary> Gợi ý </summary>\n",
    "\n",
    "Sử dụng hàm ```impute_na()``` ở trên\n",
    "\n",
    "</details>"
   ]
  },
  {
   "cell_type": "code",
   "execution_count": null,
   "metadata": {
    "id": "wCNWIOCKiK9l"
   },
   "outputs": [],
   "source": [
    "## Yêu cầu 23:\n",
    "## VIẾT CODE Ở ĐÂY:\n",
    "disc = ...(n_bins=10, encode='ordinal', strategy='quantile')\n",
    "\n",
    "disc.fit(X_train[['age', 'fare']])"
   ]
  },
  {
   "cell_type": "markdown",
   "metadata": {
    "id": "d2lgMFjLpMzL"
   },
   "source": [
    "<details><summary> Gợi ý </summary>\n",
    "\n",
    "[KBinsDiscretizer()](https://scikit-learn.org/stable/modules/generated/sklearn.preprocessing.KBinsDiscretizer.html)\n",
    "\n",
    "</details>"
   ]
  },
  {
   "cell_type": "code",
   "execution_count": null,
   "metadata": {
    "id": "KS9Oj9DfiLFh"
   },
   "outputs": [],
   "source": [
    "disc.bin_edges_"
   ]
  },
  {
   "cell_type": "code",
   "execution_count": null,
   "metadata": {
    "id": "7aGAPimDiLON"
   },
   "outputs": [],
   "source": [
    "train_t = disc.transform(X_train[['age', 'fare']])\n",
    "\n",
    "train_t = pd.DataFrame(train_t, columns = ['age', 'fare'])\n",
    "\n",
    "train_t.head()"
   ]
  },
  {
   "cell_type": "code",
   "execution_count": null,
   "metadata": {
    "id": "TmTUMlZ_iLU-"
   },
   "outputs": [],
   "source": [
    "test_t = disc.transform(X_test[['age', 'fare']])\n",
    "\n",
    "test_t = pd.DataFrame(test_t, columns = ['age', 'fare'])"
   ]
  },
  {
   "cell_type": "code",
   "execution_count": null,
   "metadata": {
    "id": "r54L7tvpiLcf"
   },
   "outputs": [],
   "source": [
    "t1 = train_t.groupby(['age'])['age'].count() / len(train_t)\n",
    "t2 = test_t.groupby(['age'])['age'].count() / len(test_t)\n",
    "\n",
    "tmp = pd.concat([t1, t2], axis=1)\n",
    "tmp.columns = ['train', 'test']\n",
    "tmp.plot.bar()\n",
    "plt.xticks(rotation=0)\n",
    "plt.ylabel('Number of observations per bin')"
   ]
  },
  {
   "cell_type": "code",
   "execution_count": null,
   "metadata": {
    "id": "5jdJEptyiLjI"
   },
   "outputs": [],
   "source": [
    "t1 = train_t.groupby(['fare'])['fare'].count() / len(train_t)\n",
    "t2 = test_t.groupby(['fare'])['fare'].count() / len(test_t)\n",
    "\n",
    "tmp = pd.concat([t1, t2], axis=1)\n",
    "tmp.columns = ['train', 'test']\n",
    "tmp.plot.bar()\n",
    "plt.xticks(rotation=0)\n",
    "plt.ylabel('Number of observations per bin')"
   ]
  },
  {
   "cell_type": "code",
   "execution_count": null,
   "metadata": {
    "id": "FD5iT6RGiLqk"
   },
   "outputs": [],
   "source": []
  }
 ],
 "metadata": {
  "colab": {
   "collapsed_sections": [],
   "name": "[VN]10_2_1 Rời rạc hóa sử dụng khoảng cách bằng nhau.ipynb",
   "provenance": []
  },
  "kernelspec": {
   "display_name": "Python 3 (ipykernel)",
   "language": "python",
   "name": "python3"
  },
  "language_info": {
   "codemirror_mode": {
    "name": "ipython",
    "version": 3
   },
   "file_extension": ".py",
   "mimetype": "text/x-python",
   "name": "python",
   "nbconvert_exporter": "python",
   "pygments_lexer": "ipython3",
   "version": "3.11.2"
  },
  "toc": {
   "base_numbering": 1,
   "nav_menu": {
    "height": "52px",
    "width": "244px"
   },
   "number_sections": true,
   "sideBar": true,
   "skip_h1_title": false,
   "title_cell": "Table of Contents",
   "title_sidebar": "Contents",
   "toc_cell": false,
   "toc_position": {
    "height": "921.556px",
    "left": "0px",
    "right": "1686px",
    "top": "110.444px",
    "width": "322.431px"
   },
   "toc_section_display": "block",
   "toc_window_display": true
  }
 },
 "nbformat": 4,
 "nbformat_minor": 1
}
